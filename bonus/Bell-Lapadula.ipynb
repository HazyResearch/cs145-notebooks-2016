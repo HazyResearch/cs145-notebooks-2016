{
 "cells": [
  {
   "cell_type": "markdown",
   "metadata": {},
   "source": [
    "<h1> Database (and Data) Security: Access Control and the Bell-Lapadula Model </h1>\n",
    "<p> The Bell-Lapadula state machine model is an access control system used in many government and military systems. In this bonus activity, we'll be learning about the principles behind the Bell-Lapadula model. To relate the concept of access control in a manner that should hit close to home, there will also be a quick access control tutorial for use in postgres. Why not sqlite? It turns out that as part of design tradeoffs, sqlite is designed without fine grained access controls. </p>"
   ]
  },
  {
   "cell_type": "markdown",
   "metadata": {},
   "source": [
    "<h2> Bell-Lapadula Model </h2>\n",
    "<p>The purpose of the Bell-Lapadula model is to maintain data confidentiality and controlled access to classified information. In the formal model, the entities in a information system are divided into subjects and objects. To relate this to CS145, these subjects could correspond to DB users or different applications that interface with a database, and objects represent tuples/tables in the DB. A data system satsifying the Bell-Lapadula model focuses on the idea of a \"secure state\", where a certain set of security rules is proved to be true at all times. </p>\n",
    "<p>A major facet of the Bell-Lapadula model is the presence of \"security classifications\". These classifications correspond to a heirarchical ranking of how \"secure\" a particular object is. For example, we will use the labels Top Secret, Secret, Confidential and Unclassified. Each object in our system gets one of these labels. Our goal is to make sure information does not get to those who are not cleared for it. To do so, each user also gets a current and maximal security level that dictates which levels of information they can read/write. </p>\n",
    "<p>In a Bell-Lapadula information system, only actions that maintain the following three principles can hold. We will use the notation $L_{m}(s)$ to represent a user $s$'s maximal levels, and $L(O)$ to represent the security level of object $O$. </p>\n",
    "<ol>\n",
    "    <li>Simple Security Property: Subject $S$ can read $O$ if $L_{m}(s) > L(O)$. <span style=\"font-weight:bold;\">(No Read Up)</span></li>\n",
    "    <li>Star Property: $S$ can read $O$ iff $L_{c}(S) \\geq L(O)$; $S$ can write $O$ iff $L_{c}(S) \\leq L(O)$ <span style=\"font-weight:bold;\">(No Write Down)</span></li>\n",
    "    <li>Discretionary-Security Property: Discretionary Access Control (i.e. the object's owner choosing whether or not specific other users can view their object) is allowed by an access matrix.</li>\n",
    "</ol>\n",
    "<p>The current security level is most importantly used when writing - while a user cannot \"write down\", this is with respect to their current security level, which is equal to or lower than their maximal security level. A user at a high security level can write down, but they must change their security level first. </p>\n",
    "<p>Note that a user with a certain security level cannot write data to security levels below them. Why do you think this is?</p>\n"
   ]
  },
  {
   "cell_type": "markdown",
   "metadata": {},
   "source": [
    "Your Explanation:"
   ]
  },
  {
   "cell_type": "markdown",
   "metadata": {},
   "source": [
    " There are a few other details that in the model that you can read more about below.\n",
    "\n",
    "https://www.cs.purdue.edu/homes/ninghui/courses/426_Fall10/handouts/426_Fall10_lect21.pdf\n",
    "http://crypto.stanford.edu/~ninghui/courses/Fall03/papers/landwehr_survey.pdf (section 5.5)"
   ]
  },
  {
   "cell_type": "markdown",
   "metadata": {},
   "source": [
    "<h2>Access Control in PostgresSQL</h2>\n",
    "<p>PostgreSQL is a free and open-source DBMS. It also supports features of access control unavailable in sqlite. We'll be going over a few features of the system. If you would like to try out access control in PostGRES, follow one of the following tutorials:</p>\n",
    "<ul>\n",
    "    <li>Mac OSX: http://www.gotealeaf.com/blog/how-to-install-postgresql-on-a-mac</li>\n",
    "    <li>Linux: https://wiki.postgresql.org/wiki/Detailed_installation_guides</li>\n",
    "    <li>Windows: https://wiki.postgresql.org/wiki/Running_%26_Installing_PostgreSQL_On_Native_Windows</li>\n",
    "</ul>\n",
    "<p>This tutorial will be based on documentation located at: http://www.postgresql.org/docs/9.0/static/user-manag.html</p>"
   ]
  },
  {
   "cell_type": "markdown",
   "metadata": {},
   "source": [
    "<h3>Basic Roles</h3>"
   ]
  },
  {
   "cell_type": "code",
   "execution_count": null,
   "metadata": {
    "collapsed": true
   },
   "outputs": [],
   "source": [
    "CREATE ROLE name;\n",
    "DROP ROLE name;\n",
    "SELECT rolname FROM pg_roles;"
   ]
  },
  {
   "cell_type": "markdown",
   "metadata": {},
   "source": [
    "<p>The preceding commands are used to create roles and display a list of them.</p>\n",
    "<h3>Role Attributes</h3>\n",
    "<p>Certain attributes can be appended to the \"CREATE ROLE\" command to give certain attributes to a user. For example, the command LOGIN can be appended to the command to make the user login when attempting to access the DB. </p>"
   ]
  },
  {
   "cell_type": "code",
   "execution_count": null,
   "metadata": {
    "collapsed": false,
    "scrolled": true
   },
   "outputs": [],
   "source": [
    "CREATE ROLE name LOGIN;"
   ]
  },
  {
   "cell_type": "markdown",
   "metadata": {},
   "source": [
    "<p>A full list of attributes can be seen here: http://www.postgresql.org/docs/9.0/static/role-attributes.html</p>\n",
    "<h3>Permissions</h3>\n",
    "<p>An owner that owns certain objects in a database can grant certain privileges to users that will allow them to perform certain actions on those objects. For example,</p>"
   ]
  },
  {
   "cell_type": "code",
   "execution_count": null,
   "metadata": {
    "collapsed": true
   },
   "outputs": [],
   "source": [
    "GRANT UPDATE ON accounts TO joe;\n",
    "REVOKE ALL ON accounts FROM PUBLIC;"
   ]
  },
  {
   "cell_type": "markdown",
   "metadata": {},
   "source": [
    "These previous commands (GRANT/REVOKE) are used to give and take away certain privleges. PostgreSQL also allows the user to create user groups."
   ]
  },
  {
   "cell_type": "markdown",
   "metadata": {},
   "source": [
    "<h2>Activity</h2>\n",
    "<p>We will simulate a user set for a simplified commercial application - a grocery store! You will start with two tables that contain important pieces of data about our grocery store. Write more SQL code based on the commands above to generate the users and grant them the appropriate privileges. </p>\n",
    "<ol><li>Create Three Users: Boardmen, Cashier and Pricer</li>\n",
    "<li>Create a group called \"canSeePrices\" with the members pricer, cashier and boardmen. Because all of these users should have access to viewing the prices of items in their store, grant the SELECT command on PRICES to the group. View more documentation about groups here: http://www.postgresql.org/docs/8.1/static/sql-creategroup.html</li>\n",
    "<li>Because neither booardmen or pricers should have control over supermarket orders, grant all privileges on orders to the cashiers.</li>\n",
    "<li>The job of a pricer is to measure demand and dictate the prices of the items being sold in the store. Grant pricer update access on PRICES.</li>\n",
    "<li>Not only do boardmen add and remove items being sold in the stores, they also have the ability to changes prices. Grant them all privileges on Prices.</li></ol>"
   ]
  },
  {
   "cell_type": "code",
   "execution_count": null,
   "metadata": {
    "collapsed": true
   },
   "outputs": [],
   "source": [
    "DROP TABLE IF EXISTS PRICES;\n",
    "CREATE TABLE PRICES(\n",
    "   ID INT PRIMARY KEY     NOT NULL,\n",
    "   NAME           TEXT    NOT NULL,\n",
    "   PRICE        REAL\n",
    ");\n",
    "\n",
    "DROP TABLE IF EXISTS ORDERS;\n",
    "CREATE TABLE ORDERS(\n",
    "   NAME           TEXT    NOT NULL,\n",
    "   ITEMID \t\tINT,\n",
    "   PRICE\tREAL\n",
    ");\n",
    "#Your Code Here\n",
    "\n",
    "\n",
    "#End Code Here"
   ]
  }
 ],
 "metadata": {
  "celltoolbar": "Edit Metadata",
  "kernelspec": {
   "display_name": "Python 2",
   "language": "python",
   "name": "python2"
  },
  "language_info": {
   "codemirror_mode": {
    "name": "ipython",
    "version": 2
   },
   "file_extension": ".py",
   "mimetype": "text/x-python",
   "name": "python",
   "nbconvert_exporter": "python",
   "pygments_lexer": "ipython2",
   "version": "2.7.10"
  }
 },
 "nbformat": 4,
 "nbformat_minor": 0
}
