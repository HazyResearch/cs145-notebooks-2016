{
 "cells": [
  {
   "cell_type": "markdown",
   "metadata": {},
   "source": [
    "Activity for 3NF & 4NF\n",
    "------------\n",
    "\n",
    "This activity will help you get familiar with some of the normal forms which are not covered in the lecture but you might come across them as you dive more into this field.\n",
    "\n",
    "In this activity, you can use the following tools to test your solutions:"
   ]
  },
  {
   "cell_type": "code",
   "execution_count": 1,
   "metadata": {
    "collapsed": true
   },
   "outputs": [],
   "source": [
    "def to_set(x):\n",
    "    if type(x) == set:\n",
    "        return x\n",
    "    elif type(x) in [list, set]:\n",
    "        return set(x)\n",
    "    elif type(x) in [str, int]:\n",
    "        return set([x])\n",
    "    else:\n",
    "        raise Exception(\"Unrecognized type.\")\n",
    "        \n",
    "def fd_to_str((lhs,rhs)): return \",\".join(to_set(lhs)) + \" -> \" + \",\".join(to_set(rhs))\n",
    "\n",
    "def fds_to_str(fds): return \"\\n\\t\".join(map(fd_to_str, fds))\n",
    "\n",
    "def set_to_str(x): return \"{\" + \",\".join(x) + \"}\"\n",
    "\n",
    "def fd_applies_to(fd, x): \n",
    "    lhs, rhs = map(to_set, fd)\n",
    "    return lhs.issubset(x)\n",
    "\n",
    "def compute_closure(x, fds, verbose=False):\n",
    "    bChanged = True        # We will repeat until there are no changes.\n",
    "    x_ret    = to_set(x).copy()    # Make a copy of the input to hold x^{+}\n",
    "    while bChanged:\n",
    "        bChanged = False   # Must change on each iteration\n",
    "        for fd in fds:     # loop through all the FDs.\n",
    "            (lhs, rhs) = map(to_set, fd) # recall: lhs -> rhs\n",
    "            if fd_applies_to(fd, x_ret) and not rhs.issubset(x_ret):\n",
    "                x_ret = x_ret.union(rhs)\n",
    "                if verbose:\n",
    "                    print(\"Using FD \" + fd_to_str(fd))\n",
    "                    print(\"\\t Updated x to \" + set_to_str(x_ret))\n",
    "                bChanged = True\n",
    "    return x_ret\n",
    "\n",
    "def is_superkey_for(A, X, fds, verbose=False): \n",
    "    return X.issubset(compute_closure(A, fds, verbose=verbose))\n",
    "\n",
    "import itertools\n",
    "def is_key_for(A, X, fds, verbose=False):\n",
    "    subsets = set(itertools.combinations(A, len(A)-1))\n",
    "    return is_superkey_for(A, X, fds) and \\\n",
    "        all([not is_superkey_for(set(SA), X, fds) for SA in subsets])"
   ]
  },
  {
   "cell_type": "markdown",
   "metadata": {},
   "source": [
    "## 3rd Normal Form (3NF)"
   ]
  },
  {
   "cell_type": "markdown",
   "metadata": {},
   "source": [
    "As we have seen in the lecture (Lecture 5-7 slides 104-107) on BCNF that it is not possible, in some cases, to decompose a relation into BCNF relations that have both the lossless-join and dependency-preservation properties. \n",
    "The solution to this is to relax our BCNF requirement slightly, in order to allow the occasional relation schema that can not be decomposed into BCNF relations without our losing the ability to check the FD’s. This relaxed condition is called \"Third Normal Form\". \n",
    "\n",
    "A relation R is in 3rd Normal Form if:\n",
    "\n",
    "&nbsp;&nbsp;&nbsp;&nbsp; If ∃ a nontrivial dependency A = {A1, A2, ..., An} -> B in R, <br>\n",
    "&nbsp;&nbsp;&nbsp;&nbsp; then A is a superkey for R OR B is part of some key. \n",
    "\n",
    "You can read more about this in the section <b>3.5</b> of the textbook <b>Database Systems: The Complete Book by Garcia-Molina, Ullman, and Widom</b>."
   ]
  },
  {
   "cell_type": "markdown",
   "metadata": {},
   "source": [
    "### Exercise 1\n",
    "\n",
    "Given the set of attributes below, and using the tools above to test / justify your conclusion, come up with the smallest number of FDs such that the table with attributes $A$ (below) is _in 3NF but **not BCNF**_:"
   ]
  },
  {
   "cell_type": "code",
   "execution_count": 4,
   "metadata": {
    "collapsed": true
   },
   "outputs": [],
   "source": [
    "A = set(['A','B','C'])"
   ]
  },
  {
   "cell_type": "code",
   "execution_count": 5,
   "metadata": {
    "collapsed": true
   },
   "outputs": [],
   "source": [
    "F = []"
   ]
  },
  {
   "cell_type": "markdown",
   "metadata": {},
   "source": [
    "### 3NF Decomposition Algorithm\n",
    "\n",
    "3NFDecomp(R):<br>\n",
    "   &nbsp;&nbsp;&nbsp;&nbsp; <u>let</u> K = [all attributes that are part of some key]<br>\n",
    "   &nbsp;&nbsp;&nbsp;&nbsp; Find A s.t.: <b>A<sup>+</sup> \\ (A &cup; K) ≠ ∅</b> and <b>A<sup>+</sup> ≠ [all attributes]</b> <br>\n",
    "\n",
    "   &nbsp;&nbsp;&nbsp;&nbsp; <u>if</u> (not found) <u>then</u> Return R <br>\n",
    "   \n",
    "   &nbsp;&nbsp;&nbsp;&nbsp; let <b>B = A<sup>+</sup> \\ (A &cup; K)</b>,  <b>C = B<sup>C</sup> \\ A</b> <br>\n",
    "   &nbsp;&nbsp;&nbsp;&nbsp; decompose R into <b>R<sub>1</sub>(A &cup; B)</b> and <b>R<sub>2</sub>(A &cup; C)</b> <br>\n",
    "   \n",
    "   &nbsp;&nbsp;&nbsp;&nbsp; Return 3NFDecomp(R<sub>1</sub>), 3NFDecomp(R<sub>2</sub>)\n"
   ]
  },
  {
   "cell_type": "markdown",
   "metadata": {},
   "source": [
    "### Exercise 2\n",
    "\n",
    "Give the decomposition of the relation $R$ with attributes $A$ and FDs $F$ below in 3rd normal form, using the tools again to test / justify your steps:"
   ]
  },
  {
   "cell_type": "code",
   "execution_count": null,
   "metadata": {
    "collapsed": true
   },
   "outputs": [],
   "source": [
    "A = set(['A','B','C','D','E'])\n",
    "F = [(set(['B','C']), 'D'),\n",
    "     (set(['D']), 'E'),\n",
    "     (set(['E']), 'C'),\n",
    "     (set(['E']), 'A')]"
   ]
  },
  {
   "cell_type": "code",
   "execution_count": null,
   "metadata": {
    "collapsed": true
   },
   "outputs": [],
   "source": []
  },
  {
   "cell_type": "markdown",
   "metadata": {},
   "source": [
    "## 4th Normal Form (4NF)"
   ]
  },
  {
   "cell_type": "markdown",
   "metadata": {
    "collapsed": true
   },
   "source": [
    "There are occasional situations where we design a relation schema and find it is in BCNF, yet the relation has a kind of redundancy that is not related to FD’s (see section 3.6.1 of the textbook). These redundancies are caused by the MVDs of the relation and can be eliminated if we also use these MVDs for decomposition. This is where we use a new normal form, called \"Fourth Normal Form\". \n",
    "In this normal form, all nontrivial MVD’s are eliminated, as are all FD’s that violate BCNF. As a result, the decomposed relations have neither the redundancy from FD’s nor the redundancy from MVD’s. The fourth normal form condition is essentially the BCNF condition, but applied to MVD’s instead of FD’s. Formally:\n",
    "\n",
    "A relation R is in 4th Normal Form if:\n",
    "\n",
    "&nbsp;&nbsp;&nbsp;&nbsp; If ∃ a nontrivial MVD, A = {A1, A2, ..., An}&#x21A0;B in R, <br>\n",
    "&nbsp;&nbsp;&nbsp;&nbsp; then A is a superkey for R. \n",
    "\n",
    "You can read more about this normal form in the section <b>3.6.4</b> of the textbook."
   ]
  },
  {
   "cell_type": "markdown",
   "metadata": {},
   "source": [
    "### Exercise 3\n",
    "\n",
    "Given the relation R with attributes A, MVDs M and FDs F below, check if R is in 4th Normal Form or not, using the tools again to test / justify your conclusion:"
   ]
  },
  {
   "cell_type": "code",
   "execution_count": null,
   "metadata": {
    "collapsed": true
   },
   "outputs": [],
   "source": [
    "A = set(['A','B','C','D','E'])\n",
    "F = [(set(['A']), 'B'),\n",
    "     (set(['B']), 'C')]\n",
    "M = [(set(['A','B']), 'C'),\n",
    "     (set(['D']), 'E')]"
   ]
  },
  {
   "cell_type": "code",
   "execution_count": null,
   "metadata": {
    "collapsed": true
   },
   "outputs": [],
   "source": []
  },
  {
   "cell_type": "markdown",
   "metadata": {},
   "source": [
    "### 4NF Decomposition Algorithm\n",
    "\n",
    "4NFDecomp(R):<br>\n",
    "   &nbsp;&nbsp;&nbsp;&nbsp; Find a non trivial MVD A = {A1, A2, ..., An}&#x21A0;B in R, s.t. A is not a superkey for R\n",
    "\n",
    "   &nbsp;&nbsp;&nbsp;&nbsp; <u>if</u> (not found) <u>then</u> Return R <br>\n",
    "   \n",
    "   &nbsp;&nbsp;&nbsp;&nbsp; let <b>Y = (A &cup; B)</b>,  <b>Z = A &cup; ([all attributes] \\ (A &cup; B))</b> <br>\n",
    "   &nbsp;&nbsp;&nbsp;&nbsp; decompose R into <b>R<sub>1</sub>(A &cup; Y)</b> and <b>R<sub>2</sub>(A &cup; Z)</b> <br>\n",
    "   \n",
    "   &nbsp;&nbsp;&nbsp;&nbsp; Return 4NFDecomp(R<sub>1</sub>), 4NFDecomp(R<sub>2</sub>)"
   ]
  },
  {
   "cell_type": "markdown",
   "metadata": {},
   "source": [
    "### Exercise 4\n",
    "\n",
    "For the attributes A and MVDs M (don't worry about the FDs) as defined in exercise 3, give the decomposition of the relation R into 4th normal form."
   ]
  },
  {
   "cell_type": "code",
   "execution_count": null,
   "metadata": {
    "collapsed": true
   },
   "outputs": [],
   "source": []
  }
 ],
 "metadata": {
  "kernelspec": {
   "display_name": "Python 2",
   "language": "python",
   "name": "python2"
  },
  "language_info": {
   "codemirror_mode": {
    "name": "ipython",
    "version": 2
   },
   "file_extension": ".py",
   "mimetype": "text/x-python",
   "name": "python",
   "nbconvert_exporter": "python",
   "pygments_lexer": "ipython2",
   "version": "2.7.10"
  }
 },
 "nbformat": 4,
 "nbformat_minor": 0
}
