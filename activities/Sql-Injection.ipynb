{
 "cells": [
  {
   "cell_type": "markdown",
   "metadata": {},
   "source": [
    "# SQL Injection Activity"
   ]
  },
  {
   "cell_type": "code",
   "execution_count": null,
   "metadata": {
    "collapsed": false
   },
   "outputs": [],
   "source": [
    "%load_ext sql\n",
    "%sql sqlite://"
   ]
  },
  {
   "cell_type": "markdown",
   "metadata": {},
   "source": [
    "## Table Creation"
   ]
  },
  {
   "cell_type": "code",
   "execution_count": null,
   "metadata": {
    "collapsed": false
   },
   "outputs": [],
   "source": [
    "%sql DROP TABLE IF EXISTS users\n",
    "%sql CREATE TABLE IF NOT EXISTS users(name VARCHAR(255), password VARCHAR(255))\n",
    "names = ['alice', 'bob', 'chris', 'alex', 'jessie', 'sarah', 'jason']\n",
    "passwords = ['cs145', 'databases', 'stanford', 'cardinal', 'password', 'abc123', 'sql']\n",
    "for (n,p) in zip(names,passwords):\n",
    "    %sql INSERT INTO users(name, password) VALUES (:n, :p)"
   ]
  },
  {
   "cell_type": "markdown",
   "metadata": {},
   "source": [
    "## Sign Up\n",
    "You can also insert your own login and password! (Note: this is not secure so please don't put any real passwords)\n",
    "\n",
    "Execute the cell below to create your own login"
   ]
  },
  {
   "cell_type": "code",
   "execution_count": null,
   "metadata": {
    "collapsed": false,
    "scrolled": true
   },
   "outputs": [],
   "source": [
    "print \"Welcome to our sign up page! Please enter your information below.\"\n",
    "username = raw_input(\"username: \")\n",
    "password = raw_input(\"password: \")\n",
    "%sql INSERT INTO users(name, password) VALUES (:username, :password)\n",
    "print \"Sign up successful! Please try logging in below\""
   ]
  },
  {
   "cell_type": "markdown",
   "metadata": {},
   "source": [
    "Check to see your login info should now be in the table!"
   ]
  },
  {
   "cell_type": "code",
   "execution_count": null,
   "metadata": {
    "collapsed": false
   },
   "outputs": [],
   "source": [
    "%sql SELECT * FROM users"
   ]
  },
  {
   "cell_type": "markdown",
   "metadata": {},
   "source": [
    "## Login\n",
    "Below is a *highly* simplified view of the backend of a website login service.\n",
    "\n",
    "Run the cell below to test it out!"
   ]
  },
  {
   "cell_type": "code",
   "execution_count": null,
   "metadata": {
    "collapsed": false
   },
   "outputs": [],
   "source": [
    "username = raw_input(\"username: \")\n",
    "password = raw_input(\"password: \")\n",
    "result = %sql SELECT password FROM users WHERE name= :username\n",
    "if (username != \"\" and password != \"\" and len(result) > 0 and result[0][0] == password):\n",
    "    print \"Login successful!\"\n",
    "else:\n",
    "    print \"Go away hacker!\" #probably do something more menacing in production"
   ]
  },
  {
   "cell_type": "markdown",
   "metadata": {},
   "source": [
    "-----------------------------\n",
    "Now time for some hacking! Well, sort of. Notice that the value for \"username\" is directly substituted into the sql expression above for checking the user's password. So what would happen if we use the value\n",
    "\n",
    "> `username:` ' ' OR password='password'\n",
    "\n",
    "> `password:` password\n",
    "\n",
    "##### Note: ipython-sqlite does not allow for substitution of whole strings into variables (which is actually a good thing from a security standpoint!), so these exercises may not work if you try to log in with them. For that reason we'll be writing the solution directly into the sql statements below."
   ]
  },
  {
   "cell_type": "code",
   "execution_count": null,
   "metadata": {
    "collapsed": false
   },
   "outputs": [],
   "source": [
    "# Think about what this query will do before running it (no need to modify anything, just think then run it)\n",
    "username = \"' ' OR password='password'\"\n",
    "password = \"password\"\n",
    "\n",
    "query = \"%sql SELECT password FROM users WHERE name=\" + username\n",
    "print query"
   ]
  },
  {
   "cell_type": "code",
   "execution_count": null,
   "metadata": {
    "collapsed": false
   },
   "outputs": [],
   "source": [
    "#Paste the code here to run and test it (and think about what the result implies)\n"
   ]
  },
  {
   "cell_type": "markdown",
   "metadata": {},
   "source": [
    "## Hack Away!\n",
    "\n",
    "Now think about how a malicious hacker (not necessarily redundant) can use the idea of sql injection to cause harm to the underlying database. In particular, can you provide a combination of username and password that would lead to\n",
    "\n",
    "> * `inserting a new tuple`\n",
    "> * `deleting an existing tuple`\n",
    "> * `deleting the entire table`\n",
    "\n",
    "Hint: sql statements are separated by semicolons"
   ]
  },
  {
   "cell_type": "markdown",
   "metadata": {},
   "source": [
    "Enter the username/password for each of the above 3 exercises below:"
   ]
  },
  {
   "cell_type": "code",
   "execution_count": null,
   "metadata": {
    "collapsed": false
   },
   "outputs": [],
   "source": [
    "#Inserting a new tuple username: 'malicious', password: 'hacker' \n",
    "#(might be useful if the query is against a secret database users don't usually have access to)\n",
    "username = \"\"\n",
    "password = \"\"\n",
    "\n",
    "#Don't modify below this comment\n",
    "query = \"%sql SELECT password FROM users WHERE name=\" + username;\n",
    "print query"
   ]
  },
  {
   "cell_type": "markdown",
   "metadata": {},
   "source": [
    "After running the cell above, copy the output into the cell below and run it!"
   ]
  },
  {
   "cell_type": "code",
   "execution_count": null,
   "metadata": {
    "collapsed": false
   },
   "outputs": [],
   "source": [
    "#Paste the code here to run and test it\n"
   ]
  },
  {
   "cell_type": "code",
   "execution_count": null,
   "metadata": {
    "collapsed": false
   },
   "outputs": [],
   "source": [
    "#Now run this cell to make sure it worked!\n",
    "%sql SELECT * FROM users;"
   ]
  },
  {
   "cell_type": "code",
   "execution_count": null,
   "metadata": {
    "collapsed": false
   },
   "outputs": [],
   "source": [
    "#Deleting an existing tuple (specifically, alice)\n",
    "username = \"\"\n",
    "password = \"\"\n",
    "\n",
    "#Don't modify below this comment\n",
    "query = \"%sql SELECT password FROM users WHERE name=\" + username;\n",
    "print query"
   ]
  },
  {
   "cell_type": "markdown",
   "metadata": {},
   "source": [
    "After running the cell above, copy the output into the cell below and run it!"
   ]
  },
  {
   "cell_type": "code",
   "execution_count": null,
   "metadata": {
    "collapsed": false
   },
   "outputs": [],
   "source": [
    "#Paste the code here to run and test it\n"
   ]
  },
  {
   "cell_type": "code",
   "execution_count": null,
   "metadata": {
    "collapsed": false
   },
   "outputs": [],
   "source": [
    "#Now run this cell to make sure it worked!\n",
    "%sql SELECT * FROM users;"
   ]
  },
  {
   "cell_type": "code",
   "execution_count": null,
   "metadata": {
    "collapsed": false
   },
   "outputs": [],
   "source": [
    "#Deleting the entire table\n",
    "username = \"\"\n",
    "password = \"\"\n",
    "\n",
    "#Don't modify below this comment\n",
    "query = \"%sql SELECT password FROM users WHERE name=\" + username;\n",
    "print query"
   ]
  },
  {
   "cell_type": "markdown",
   "metadata": {},
   "source": [
    "After running the cell above, copy the output into the cell below and run it!"
   ]
  },
  {
   "cell_type": "code",
   "execution_count": null,
   "metadata": {
    "collapsed": false
   },
   "outputs": [],
   "source": [
    "#Paste the code here to run and test it\n"
   ]
  },
  {
   "cell_type": "code",
   "execution_count": null,
   "metadata": {
    "collapsed": false
   },
   "outputs": [],
   "source": [
    "#Now run this cell to make sure it worked!\n",
    "%sql SELECT * FROM users;"
   ]
  },
  {
   "cell_type": "markdown",
   "metadata": {},
   "source": [
    "For more info on sql injection, check out https://en.wikipedia.org/wiki/SQL_injection"
   ]
  }
 ],
 "metadata": {
  "kernelspec": {
   "display_name": "Python 2",
   "language": "python",
   "name": "python2"
  },
  "language_info": {
   "codemirror_mode": {
    "name": "ipython",
    "version": 2
   },
   "file_extension": ".py",
   "mimetype": "text/x-python",
   "name": "python",
   "nbconvert_exporter": "python",
   "pygments_lexer": "ipython2",
   "version": "2.7.10"
  }
 },
 "nbformat": 4,
 "nbformat_minor": 0
}
