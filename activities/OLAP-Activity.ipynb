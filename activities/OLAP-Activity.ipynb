{
 "cells": [
  {
   "cell_type": "code",
   "execution_count": null,
   "metadata": {
    "collapsed": false
   },
   "outputs": [],
   "source": [
    "%load_ext sql\n",
    "%sql sqlite:///olap.db"
   ]
  },
  {
   "cell_type": "markdown",
   "metadata": {},
   "source": [
    "<h1>OLAP and Cubes Activity</h1>"
   ]
  },
  {
   "cell_type": "markdown",
   "metadata": {},
   "source": [
    "<h1>1 Data and Motivation</h1>\n",
    "<p>You're given a bunch of data on search queries by users. (We can pretend that these users are Google search users and you are an engineer on the Google Web Search team). You want to analyze the number of search queries made, who they are made by, and how successful your search engine is at returning a result that people want to click on. A particular user can only make one query at a time.</p>\n",
    "<p>Below is a table called raw_search_log containing details of search queries.</p>\n",
    "\n",
    "<p>raw_search_log</p>\n",
    "<table>\n",
    "<tr>\n",
    "    <th>Field</th>\n",
    "    <th>Type</th>\n",
    "    <th>Description</th>\n",
    "</tr>\n",
    "<tr>\n",
    "    <td>user_id</td>\n",
    "    <td>INTEGER</td>\n",
    "    <td>ID of the user that made the search.</td>\n",
    "</tr>\n",
    "<tr>\n",
    "    <td>timestamp</td>\n",
    "    <td>TIMESTAMP</td>\n",
    "    <td>Time at which the search occurred. A particular\n",
    "user_id can only make a single query at a given\n",
    "timestamp.</td>\n",
    "</tr>\n",
    "<tr>\n",
    "    <td>query</td>\n",
    "    <td>VARCHAR(500)</td>\n",
    "    <td>Search query (text typed into the search bar).</td>\n",
    "</tr>\n",
    "<tr>\n",
    "    <td>rank</td>\n",
    "    <td>INTEGER</td>\n",
    "    <td>The rank of the search result they clicked on (how\n",
    "high it appears in the results). This is NULL if they\n",
    "never clicked on a result.</td>\n",
    "</tr>\n",
    "<tr>\n",
    "    <td>click_url</td>\n",
    "    <td>VARCHAR(200)</td>\n",
    "    <td>The URL of the search result they clicked on. This is\n",
    "NULL if they never clicked on a result.</td>\n",
    "</tr>\n",
    "<tr>\n",
    "    <td>city</td>\n",
    "    <td>VARCHAR(50)</td>\n",
    "    <td>The location of the user (is constant for a given user).</td>\n",
    "</tr>\n",
    "<tr>\n",
    "    <td>age</td>\n",
    "    <td>INTEGER</td>\n",
    "    <td>The age of the user (is constant for a given user).</td>\n",
    "</tr>\n",
    "</table>"
   ]
  },
  {
   "cell_type": "markdown",
   "metadata": {},
   "source": [
    "<h1>2 OLAP Database Design</h1>\n",
    "<p>We will split up the attributes of the raw data schema into a star schema with 2 dimension tables\n",
    "(users_dim, dates_dim), and a fact table (searches_fact). Design the star schema.</p>\n",
    "\n",
    "<center>users_dim</center>\n",
    "<table>\n",
    "<tr>\n",
    "    <td>user_id</td>\n",
    "    <td>INTEGER</td>\n",
    "</tr>\n",
    "<tr>\n",
    "    <td>city</td>\n",
    "    <td>VARCHAR(50)</td>\n",
    "</tr>\n",
    "<tr>\n",
    "    <td>age</td>\n",
    "    <td>INTEGER</td>\n",
    "</tr>\n",
    "</table>\n",
    "<center>User information.</center>\n",
    "<br/>\n",
    "\n",
    "<center>searches_fact</center>\n",
    "<table>\n",
    "<tr>\n",
    "    <td>user_id</td>\n",
    "    <td>INTEGER</td>\n",
    "</tr>\n",
    "<tr>\n",
    "    <td>timestamp</td>\n",
    "    <td>TIMESTAMP</td>\n",
    "</tr>\n",
    "<tr>\n",
    "    <td>query</td>\n",
    "    <td>VARCHAR(500)</td>\n",
    "</tr>\n",
    "<tr>\n",
    "    <td>rank</td>\n",
    "    <td>INTEGER</td>\n",
    "</tr>\n",
    "<tr>\n",
    "    <td>click_url</td>\n",
    "    <td>VARCHAR(200)</td>\n",
    "</tr>\n",
    "</table>\n",
    "<center>Search queries that were performed\n",
    "(who, when, what).</center>\n",
    "<br/>\n",
    "\n",
    "<center>dates_dim</center>\n",
    "<table>\n",
    "<tr>\n",
    "    <td>timestamp</td>\n",
    "    <td>TIMESTAMP</td>\n",
    "</tr>\n",
    "<tr>\n",
    "    <td>date</td>\n",
    "    <td>DATE</td>\n",
    "</tr>\n",
    "<tr>\n",
    "    <td>hour</td>\n",
    "    <td>INTEGER</td>\n",
    "</tr>\n",
    "<tr>\n",
    "    <td>is_weekend</td>\n",
    "    <td>BOOLEAN</td>\n",
    "</tr>\n",
    "</table>\n",
    "<center>Date/time information on\n",
    "search queries.</center>\n",
    "<br/>"
   ]
  },
  {
   "cell_type": "markdown",
   "metadata": {},
   "source": [
    "<p>\n",
    "1. Write the CREATE TABLE statement for users_dim. Don't forget about the primary key!\n",
    "</p>"
   ]
  },
  {
   "cell_type": "code",
   "execution_count": null,
   "metadata": {
    "collapsed": false
   },
   "outputs": [],
   "source": [
    "%%sql"
   ]
  },
  {
   "cell_type": "markdown",
   "metadata": {},
   "source": [
    "<p>2. Write the CREATE TABLE statement for dates_dim. This table contains attributes not found in the raw schema because we want to be able to do more detailed analysis on the data. Don't forget about the primary key!</p>"
   ]
  },
  {
   "cell_type": "code",
   "execution_count": null,
   "metadata": {
    "collapsed": false
   },
   "outputs": [],
   "source": [
    "%%sql"
   ]
  },
  {
   "cell_type": "markdown",
   "metadata": {},
   "source": [
    "<p>3. Write the CREATE TABLE statement for searches_fact. Don't forget about foreign keys into the dimension tables and the primary key. (If you forgot the FOREIGN KEY syntax, take a look at Lecture 5: Design Theory3 from the course website).</p>"
   ]
  },
  {
   "cell_type": "code",
   "execution_count": null,
   "metadata": {
    "collapsed": false
   },
   "outputs": [],
   "source": [
    "%%sql"
   ]
  },
  {
   "cell_type": "markdown",
   "metadata": {},
   "source": [
    "<p>Discussion Why did we design it this way? What kind of queries might we be able to do with this schema design?</p>"
   ]
  },
  {
   "cell_type": "markdown",
   "metadata": {},
   "source": [
    "<h1>3 Populating Tables</h1>\n",
    "<p>After designing the tables, we need to populate them with data from raw_search_log in order to do our analysis!</p>\n",
    "<p>Example. Populate the users_dim table with an INSERT...SELECT statement. [18250 rows ]</p>"
   ]
  },
  {
   "cell_type": "code",
   "execution_count": null,
   "metadata": {
    "collapsed": false
   },
   "outputs": [],
   "source": [
    "%%sql\n",
    "INSERT INTO users_dim (user_id, city, age)\n",
    "SELECT DISTINCT user_id, city, age\n",
    "FROM raw_search_log;"
   ]
  },
  {
   "cell_type": "markdown",
   "metadata": {},
   "source": [
    "<p>\n",
    "1. Populate the dates_dim table with an INSERT...SELECT statement. [28138 rows ]\n",
    "</p>\n",
    "<ul>\n",
    "<li>You must extract the date (using the DATE function on the timestamp field) and hour of day\n",
    "(using the EXTRACT function) from timestamp. The documentation for EXTRACT is here4 and\n",
    "the syntax is EXTRACT(<field> FROM timestamp).\n",
    "</li>\n",
    "<li>\n",
    "You must figure out whether or not the date is a weekend. Look at the EXTRACT function\n",
    "again. You will want to use a CASE statement.\n",
    "</li>\n",
    "</ul>"
   ]
  },
  {
   "cell_type": "code",
   "execution_count": null,
   "metadata": {
    "collapsed": false
   },
   "outputs": [],
   "source": [
    "%%sql"
   ]
  },
  {
   "cell_type": "markdown",
   "metadata": {},
   "source": [
    "<p>\n",
    "2. Write an INSERT...SELECT statement to populate the searches_fact table. [28195 rows ]\n",
    "</p>"
   ]
  },
  {
   "cell_type": "code",
   "execution_count": null,
   "metadata": {
    "collapsed": false
   },
   "outputs": [],
   "source": [
    "%%sql"
   ]
  },
  {
   "cell_type": "markdown",
   "metadata": {},
   "source": [
    "<p>Discussion Think about how much work was required to set up the data for analysis. Compare this to NoSQL/Redis. How much design work did you have to do before analyzing the data?</p>\n",
    "<p>What if you wanted to add a field source to denote where the user queried from (desktop, Android browser, Safari, etc.)? What would you have to do in SQL versus what you do in Redis? What if source were unknown? How would this be denoted in SQL versus Redis?</p>"
   ]
  },
  {
   "cell_type": "markdown",
   "metadata": {},
   "source": [
    "<h1>4 OLAP Queries</h1>\n",
    "<p>Now, we want to use our dimension and fact tables to analyze the data. We don't want to use raw_search_log as that would defeat the purpose of this exercise. NATURAL JOINs will come in handy and are easy to use by design of the schema.</p>\n",
    "<p>Example. Find the number of queries performed by people between the ages of 18 and 25, ordered by age.</p>\n"
   ]
  },
  {
   "cell_type": "code",
   "execution_count": null,
   "metadata": {
    "collapsed": false
   },
   "outputs": [],
   "source": [
    "%%sql\n",
    "SELECT age, COUNT(query) AS num_queries\n",
    "FROM users_dim NATURAL JOIN searches_fact\n",
    "WHERE age BETWEEN 18 and 25 GROUP BY age ORDER BY age;"
   ]
  },
  {
   "cell_type": "markdown",
   "metadata": {},
   "source": [
    "<h2>Problems</h2>\n",
    "<p>1. How many characters long are the search queries done by people at Stanford? Find the top 10 longest queries and their length for queries done by users in Stanford. LENGTH (documentation here6) and LIMIT (documentation here7) will be helpful. [Longest query is 255 characters ]</p>"
   ]
  },
  {
   "cell_type": "code",
   "execution_count": null,
   "metadata": {
    "collapsed": false
   },
   "outputs": [],
   "source": [
    "%%sql"
   ]
  },
  {
   "cell_type": "markdown",
   "metadata": {},
   "source": [
    "<p>2. We want to get summary statistics on queries in each city. For each city, get the number of unique users and number of queries made. The result's schema should be (city, num_users, num_queries).</p>"
   ]
  },
  {
   "cell_type": "code",
   "execution_count": null,
   "metadata": {
    "collapsed": false
   },
   "outputs": [],
   "source": [
    "%%sql"
   ]
  },
  {
   "cell_type": "markdown",
   "metadata": {},
   "source": [
    "<p>3. Find the maximum length of search queries each day (not timestamp!) that returned a click_url (i.e. searches that resulted in a user clicking on a search result). We're interested in seeing if the search engine is getting better at returning results for queries, or if people are better at searching with shorter queries. The result should be of the form (date, max_query_length).</p>"
   ]
  },
  {
   "cell_type": "code",
   "execution_count": null,
   "metadata": {
    "collapsed": false
   },
   "outputs": [],
   "source": [
    "%%sql"
   ]
  },
  {
   "cell_type": "markdown",
   "metadata": {},
   "source": [
    "<p>4. Find the bad kids! Write a query that returns the user_ids of users under the age of 18 who've made searches between the hours of 2 am and 7 am (hour values of 2 and 7), inclusive. [176 rows]\n",
    "</p>"
   ]
  },
  {
   "cell_type": "code",
   "execution_count": null,
   "metadata": {
    "collapsed": false
   },
   "outputs": [],
   "source": [
    "%%sql"
   ]
  },
  {
   "cell_type": "markdown",
   "metadata": {},
   "source": [
    "<h1>5 Discussion</h1>\n",
    "<p>Think about these questions below and we will discuss it together as a class.</p>\n",
    "<ul>\n",
    "<li>Installation and setup-wise, what was easier to do in Redis?</li>\n",
    "<li>What kind of analysis was easier to do in SQL?</li>\n",
    "<li>What are some of the disadvantages or limitations of using SQL rather than Redis?</li>\n",
    "</ul>"
   ]
  },
  {
   "cell_type": "markdown",
   "metadata": {},
   "source": [
    "<h1>6 Bonus Problems (Extra Practice)</h1>\n",
    "<p>Do these if you have extra time! This is not required as part of the activity.</p>\n",
    "<p>1. Report number of queries and clicked websites viewed by each user in Palo Alto. The result should be of the form (user_id, num_queried, num_clicked). [First row of results is (281371, 2, 2) ]</p>"
   ]
  },
  {
   "cell_type": "code",
   "execution_count": null,
   "metadata": {
    "collapsed": false
   },
   "outputs": [],
   "source": [
    "%%sql"
   ]
  },
  {
   "cell_type": "markdown",
   "metadata": {},
   "source": [
    "<p>2. For dates between '2006-03-04' and '2006-03-07', find the number of queries. Your result should be of the form (date, num_queries). Remember, some queries could have occurred at the same time! [335, 400, 348, 369]</p>"
   ]
  },
  {
   "cell_type": "code",
   "execution_count": null,
   "metadata": {
    "collapsed": false
   },
   "outputs": [],
   "source": [
    "%%sql"
   ]
  },
  {
   "cell_type": "markdown",
   "metadata": {},
   "source": [
    "<p>3. Are older people less effective at making a good search? Get the number of queries that did not return a click_url from users 50 or older who don't live in Oldsville. [2430 ]</p>"
   ]
  },
  {
   "cell_type": "code",
   "execution_count": null,
   "metadata": {
    "collapsed": false
   },
   "outputs": [],
   "source": [
    "%%sql"
   ]
  },
  {
   "cell_type": "markdown",
   "metadata": {},
   "source": [
    "<p>4. Super-Bonus! It would be interesting to see if the average queries per hour is different between days during the week and days during the weekend. Do people make more searches during the weekend? Do they make more at night? Write a query that computes the number of queries per hour, averaged over the weekdays and over the weekends. The result should have rows and columns like this:</p>"
   ]
  },
  {
   "cell_type": "markdown",
   "metadata": {},
   "source": [
    "<table>\n",
    "<tr>\n",
    "    <th>hour</th>\n",
    "    <th>avg_weekday_queries</th>\n",
    "    <th>avg_weekend_queries</th>\n",
    "</tr>\n",
    "<tr>\n",
    "    <td>0</td>\n",
    "    <td>11.89</td>\n",
    "    <td>10.69</td>\n",
    "</tr>\n",
    "<tr>\n",
    "    <td>1</td>\n",
    "    <td>7.58</td>\n",
    "    <td>9.27</td>\n",
    "</tr>\n",
    "<tr>\n",
    "    <td>...</td>\n",
    "    <td>...</td>\n",
    "    <td>...</td>\n",
    "</tr>\n",
    "</table>"
   ]
  },
  {
   "cell_type": "markdown",
   "metadata": {},
   "source": [
    "<p>avg_weekday_queries contains the number of queries per hour, averaged over all weekdays (the is_weekend field in dates_dim will be helpful), and avg_weekend_queries contains the number of queries per hour, averaged over all weekend days.</p>\n",
    "<p>Hint: Break it apart into two queries (one for the weekend, one for the weekday) and join them together at the end.\n",
    "</p>"
   ]
  },
  {
   "cell_type": "code",
   "execution_count": null,
   "metadata": {
    "collapsed": false
   },
   "outputs": [],
   "source": [
    "%%sql"
   ]
  }
 ],
 "metadata": {
  "kernelspec": {
   "display_name": "Python 2",
   "language": "python",
   "name": "python2"
  },
  "language_info": {
   "codemirror_mode": {
    "name": "ipython",
    "version": 2
   },
   "file_extension": ".py",
   "mimetype": "text/x-python",
   "name": "python",
   "nbconvert_exporter": "python",
   "pygments_lexer": "ipython2",
   "version": "2.7.10"
  }
 },
 "nbformat": 4,
 "nbformat_minor": 0
}
