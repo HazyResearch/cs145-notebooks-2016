{
 "cells": [
  {
   "cell_type": "code",
   "execution_count": 1,
   "metadata": {
    "collapsed": false,
    "slideshow": {
     "slide_type": "slide"
    }
   },
   "outputs": [
    {
     "name": "stdout",
     "output_type": "stream",
     "text": [
      "Done.\n",
      "Done.\n"
     ]
    },
    {
     "name": "stderr",
     "output_type": "stream",
     "text": [
      "/Users/tarabalakrishnan/.local/lib/python2.7/site-packages/IPython/config.py:13: ShimWarning: The `IPython.config` package has been deprecated. You should import from traitlets.config instead.\n",
      "  \"You should import from traitlets.config instead.\", ShimWarning)\n",
      "/Users/tarabalakrishnan/.local/lib/python2.7/site-packages/IPython/utils/traitlets.py:5: UserWarning: IPython.utils.traitlets has moved to a top-level traitlets package.\n",
      "  warn(\"IPython.utils.traitlets has moved to a top-level traitlets package.\")\n"
     ]
    },
    {
     "data": {
      "text/plain": [
       "[]"
      ]
     },
     "execution_count": 1,
     "metadata": {},
     "output_type": "execute_result"
    }
   ],
   "source": [
    "%load_ext sql\n",
    "%sql sqlite:///complaint.db\n",
    "import time\n",
    "%sql drop index if exists helpful_index;\n",
    "%sql analyze"
   ]
  },
  {
   "cell_type": "markdown",
   "metadata": {
    "slideshow": {
     "slide_type": "slide"
    }
   },
   "source": [
    "Let's play with the [consumer complaint database](https://catalog.data.gov/dataset/consumer-complaint-database) from data.gov"
   ]
  },
  {
   "cell_type": "code",
   "execution_count": null,
   "metadata": {
    "collapsed": false,
    "slideshow": {
     "slide_type": "slide"
    }
   },
   "outputs": [],
   "source": [
    "%sql select count(*) from complaints;"
   ]
  },
  {
   "cell_type": "code",
   "execution_count": null,
   "metadata": {
    "collapsed": false,
    "slideshow": {
     "slide_type": "slide"
    }
   },
   "outputs": [],
   "source": [
    "%sql select * from complaints limit 5;"
   ]
  },
  {
   "cell_type": "markdown",
   "metadata": {
    "slideshow": {
     "slide_type": "slide"
    }
   },
   "source": [
    "The syntax to create a view is below\n",
    "> create index (index_name) on (table)(attributes)"
   ]
  },
  {
   "cell_type": "code",
   "execution_count": null,
   "metadata": {
    "collapsed": false,
    "slideshow": {
     "slide_type": "fragment"
    }
   },
   "outputs": [],
   "source": [
    "%%sql drop index if exists zip_index;\n",
    "create index zip_index on complaints(zip_code);\n",
    "analyze"
   ]
  },
  {
   "cell_type": "code",
   "execution_count": null,
   "metadata": {
    "collapsed": false,
    "slideshow": {
     "slide_type": "slide"
    }
   },
   "outputs": [],
   "source": [
    "%%sql\n",
    "select zip_code, count(*) as c \n",
    "from complaints group by zip_code \n",
    "order by c desc limit 5;"
   ]
  },
  {
   "cell_type": "code",
   "execution_count": null,
   "metadata": {
    "collapsed": false,
    "slideshow": {
     "slide_type": "slide"
    }
   },
   "outputs": [],
   "source": [
    "%%sql select product, count(*)\n",
    "from complaints c1 where ZIP_CODE = '48382'\n",
    "group by product;"
   ]
  },
  {
   "cell_type": "markdown",
   "metadata": {
    "slideshow": {
     "slide_type": "slide"
    }
   },
   "source": [
    "Let's get down to business... Indexing complainers!\n",
    "\n",
    "For pedagogical purposes, we'll use _likelihood_ function:\n",
    "  * likelihood(X,Y) does not change X's value \n",
    "  * instead it tells the DBMS the fraction of calls on which we believe X holds.\n",
    "      * 0.0 is lowest, 1.0 is highest.\n",
    "  * It's a form of _hint_ for the optimizer"
   ]
  },
  {
   "cell_type": "code",
   "execution_count": null,
   "metadata": {
    "collapsed": false,
    "slideshow": {
     "slide_type": "slide"
    }
   },
   "outputs": [],
   "source": [
    "%%sql \n",
    "explain query plan \n",
    "select product, count(*) from complaints c1 \n",
    "where likelihood(ZIP_CODE = '48383' or ZIP_CODE='44444', 1.0)\n",
    "group by product;"
   ]
  },
  {
   "cell_type": "code",
   "execution_count": null,
   "metadata": {
    "collapsed": false,
    "slideshow": {
     "slide_type": "slide"
    }
   },
   "outputs": [],
   "source": [
    "%%sql \n",
    "explain query plan \n",
    "select product, count(*) from complaints c1 \n",
    "where likelihood(ZIP_CODE = '48383' or ZIP_CODE='44444', 0.0)\n",
    "group by product;"
   ]
  },
  {
   "cell_type": "markdown",
   "metadata": {
    "slideshow": {
     "slide_type": "slide"
    }
   },
   "source": [
    "So... does it make a difference in execution time? \n",
    "\n",
    "... Well, some it's a small database in memory..."
   ]
  },
  {
   "cell_type": "code",
   "execution_count": null,
   "metadata": {
    "collapsed": false,
    "slideshow": {
     "slide_type": "slide"
    }
   },
   "outputs": [],
   "source": [
    "start_scan = time.time()\n",
    "%sql select product, count(*) from complaints c1 where likelihood(ZIP_CODE = '48382' or ZIP_CODE='44444', 1.0) group by product;\n",
    "scan_time = time.time() - start_scan\n",
    "\n",
    "start_index = time.time()\n",
    "%sql select product, count(*) from complaints c1 where likelihood(ZIP_CODE = '48382' or ZIP_CODE='44444', 0.0) group by product;\n",
    "index_time  = time.time() - start_index\n",
    "print(\"time for scan={0} time for index={1}\".format(scan_time, index_time))\n",
    "print(\"\\t So about {0} times faster\".format(scan_time/index_time))"
   ]
  },
  {
   "cell_type": "markdown",
   "metadata": {
    "slideshow": {
     "slide_type": "slide"
    }
   },
   "source": [
    "<center>Covering Indexes</center>"
   ]
  },
  {
   "cell_type": "markdown",
   "metadata": {
    "slideshow": {
     "slide_type": "slide"
    }
   },
   "source": [
    "We say that an index is _covering_ if all the needed columns are in the index.\n",
    " * Needed columns is the union of those in WHERE _and_ SELECT.\n",
    " * Means that the query can be answere using the index--without reading the table!"
   ]
  },
  {
   "cell_type": "code",
   "execution_count": null,
   "metadata": {
    "collapsed": false,
    "slideshow": {
     "slide_type": "slide"
    }
   },
   "outputs": [],
   "source": [
    "%%sql drop index if exists helpful_index;\n",
    "create index helpful_index on \n",
    "complaints(zip_code, product, complaint_id);"
   ]
  },
  {
   "cell_type": "markdown",
   "metadata": {
    "slideshow": {
     "slide_type": "slide"
    }
   },
   "source": [
    "Which plan happens for this query?\n",
    "> select product, count(*)<br>\n",
    "> from complaints <br>\n",
    "> where likelihood(ZIP_CODE = '48382', 1.0)\n",
    "> <br>group by product;\n",
    "\n",
    "NB: Using zip_index, this would be a scan!"
   ]
  },
  {
   "cell_type": "code",
   "execution_count": null,
   "metadata": {
    "collapsed": false,
    "slideshow": {
     "slide_type": "slide"
    }
   },
   "outputs": [],
   "source": [
    "%%sql\n",
    "explain query plan select product, count(*) \n",
    "from complaints c1 \n",
    "where likelihood(ZIP_CODE = '48382' or ZIP_CODE='44444', 1.0) group by product;"
   ]
  },
  {
   "cell_type": "markdown",
   "metadata": {
    "slideshow": {
     "slide_type": "slide"
    }
   },
   "source": [
    "* The index is _smaller_ in absolute data size.\n",
    "* The DBMS knows this, and it picks the right index!"
   ]
  },
  {
   "cell_type": "markdown",
   "metadata": {
    "collapsed": true
   },
   "source": [
    "Summary\n",
    "-------\n",
    "\n",
    "* This notebook walks through index creation \n",
    "* That index selection is done in a cost based way.\n",
    "* Introduced the notion of covering index.\n",
    "* Demonstrated that not only keys to answer query, but attributes returned important component of selection. "
   ]
  }
 ],
 "metadata": {
  "kernelspec": {
   "display_name": "Python 2",
   "language": "python",
   "name": "python2"
  },
  "language_info": {
   "codemirror_mode": {
    "name": "ipython",
    "version": 2
   },
   "file_extension": ".py",
   "mimetype": "text/x-python",
   "name": "python",
   "nbconvert_exporter": "python",
   "pygments_lexer": "ipython2",
   "version": "2.7.12"
  }
 },
 "nbformat": 4,
 "nbformat_minor": 0
}
