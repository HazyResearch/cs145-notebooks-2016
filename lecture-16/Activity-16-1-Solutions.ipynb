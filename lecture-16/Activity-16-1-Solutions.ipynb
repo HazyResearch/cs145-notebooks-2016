{
 "cells": [
  {
   "cell_type": "markdown",
   "metadata": {},
   "source": [
    "### Note: You may need to install `markdown`:\n",
    "\n",
    "    pip install markdown"
   ]
  },
  {
   "cell_type": "code",
   "execution_count": 1,
   "metadata": {
    "collapsed": false
   },
   "outputs": [
    {
     "name": "stderr",
     "output_type": "stream",
     "text": [
      "/Library/Python/2.7/site-packages/IPython/config.py:13: ShimWarning: The `IPython.config` package has been deprecated. You should import from traitlets.config instead.\n",
      "  \"You should import from traitlets.config instead.\", ShimWarning)\n",
      "/Library/Python/2.7/site-packages/IPython/utils/traitlets.py:5: UserWarning: IPython.utils.traitlets has moved to a top-level traitlets package.\n",
      "  warn(\"IPython.utils.traitlets has moved to a top-level traitlets package.\")\n"
     ]
    }
   ],
   "source": [
    "%load_ext sql\n",
    "%sql sqlite://\n",
    "\n",
    "%load_ext autoreload\n",
    "%autoreload 2\n",
    "\n",
    "# To help render markdown\n",
    "from IPython.core.display import display, HTML\n",
    "from markdown import markdown\n",
    "def render_markdown_raw(m): return display(HTML(markdown(m))) # must be last element of cell.\n",
    "def render_markdown(m): return render_markdown_raw(m.toMD())\n",
    "\n",
    "# import the relational algbera operators\n",
    "from relation_algebra import Select, Project, Union, NJoin, CrossProduct, BaseRelation\n",
    "from relation_algebra import get_result, compare_results\n",
    "\n",
    "from display_tools import side_by_side\n",
    "\n",
    "import random"
   ]
  },
  {
   "cell_type": "code",
   "execution_count": 2,
   "metadata": {
    "collapsed": false
   },
   "outputs": [
    {
     "name": "stdout",
     "output_type": "stream",
     "text": [
      "Done.\n",
      "Done.\n",
      "Done.\n",
      "Done.\n",
      "Done.\n",
      "Done.\n",
      "Done.\n",
      "Done.\n"
     ]
    },
    {
     "data": {
      "text/plain": [
       "[]"
      ]
     },
     "execution_count": 2,
     "metadata": {},
     "output_type": "execute_result"
    }
   ],
   "source": [
    "%%sql\n",
    "drop table if exists R; create table R(A int, B int);\n",
    "drop table if exists S; create table S(B int, C int);\n",
    "drop table if exists T; create table T(C int, D int);\n",
    "drop table if exists U; create table U(D int, E int);"
   ]
  },
  {
   "cell_type": "code",
   "execution_count": 3,
   "metadata": {
    "collapsed": false
   },
   "outputs": [
    {
     "name": "stdout",
     "output_type": "stream",
     "text": [
      "1 rows affected.\n",
      "1 rows affected.\n",
      "1 rows affected.\n",
      "1 rows affected.\n",
      "1 rows affected.\n",
      "1 rows affected.\n",
      "1 rows affected.\n",
      "1 rows affected.\n",
      "1 rows affected.\n",
      "1 rows affected.\n",
      "1 rows affected.\n",
      "1 rows affected.\n",
      "1 rows affected.\n",
      "1 rows affected.\n",
      "1 rows affected.\n",
      "1 rows affected.\n",
      "1 rows affected.\n",
      "1 rows affected.\n",
      "1 rows affected.\n",
      "1 rows affected.\n",
      "1 rows affected.\n",
      "1 rows affected.\n",
      "1 rows affected.\n",
      "1 rows affected.\n",
      "1 rows affected.\n",
      "1 rows affected.\n",
      "1 rows affected.\n",
      "1 rows affected.\n",
      "1 rows affected.\n",
      "1 rows affected.\n",
      "1 rows affected.\n",
      "1 rows affected.\n",
      "1 rows affected.\n",
      "1 rows affected.\n",
      "1 rows affected.\n",
      "1 rows affected.\n",
      "1 rows affected.\n",
      "1 rows affected.\n",
      "1 rows affected.\n",
      "1 rows affected.\n",
      "1 rows affected.\n",
      "1 rows affected.\n",
      "1 rows affected.\n",
      "1 rows affected.\n",
      "1 rows affected.\n",
      "1 rows affected.\n",
      "1 rows affected.\n",
      "1 rows affected.\n",
      "1 rows affected.\n",
      "1 rows affected.\n",
      "1 rows affected.\n",
      "1 rows affected.\n",
      "1 rows affected.\n",
      "1 rows affected.\n",
      "1 rows affected.\n",
      "1 rows affected.\n",
      "1 rows affected.\n",
      "1 rows affected.\n",
      "1 rows affected.\n",
      "1 rows affected.\n",
      "1 rows affected.\n",
      "1 rows affected.\n",
      "1 rows affected.\n",
      "1 rows affected.\n",
      "1 rows affected.\n",
      "1 rows affected.\n",
      "1 rows affected.\n",
      "1 rows affected.\n",
      "1 rows affected.\n",
      "1 rows affected.\n",
      "1 rows affected.\n",
      "1 rows affected.\n",
      "1 rows affected.\n",
      "1 rows affected.\n",
      "1 rows affected.\n",
      "1 rows affected.\n",
      "1 rows affected.\n",
      "1 rows affected.\n",
      "1 rows affected.\n",
      "1 rows affected.\n",
      "1 rows affected.\n",
      "1 rows affected.\n",
      "1 rows affected.\n",
      "1 rows affected.\n",
      "1 rows affected.\n",
      "1 rows affected.\n",
      "1 rows affected.\n",
      "1 rows affected.\n",
      "1 rows affected.\n",
      "1 rows affected.\n",
      "1 rows affected.\n",
      "1 rows affected.\n",
      "1 rows affected.\n",
      "1 rows affected.\n",
      "1 rows affected.\n"
     ]
    }
   ],
   "source": [
    "for x in range(0,10,2):\n",
    "    for y in range(0,10,3):\n",
    "        %sql INSERT INTO R VALUES (:x, :y);\n",
    "for x in range(0,20,4):\n",
    "    for y in range(0,10,2):\n",
    "        %sql INSERT INTO S VALUES (:x, :y);\n",
    "for x in range(0,5,1):\n",
    "    for y in range(0,10,2):\n",
    "        %sql INSERT INTO T VALUES (:x, :y);\n",
    "for x in range(0,10,2):\n",
    "    for y in range(0,5,1):\n",
    "        %sql INSERT INTO U VALUES (:x, :y);"
   ]
  },
  {
   "cell_type": "markdown",
   "metadata": {},
   "source": [
    "Activity 16: Relational Algebra & Logical Equivalence\n",
    "=============================\n",
    "\n"
   ]
  },
  {
   "cell_type": "markdown",
   "metadata": {},
   "source": [
    "### Tutorial: Relational Algebra Python Toolkit\n",
    "\n",
    "We'll use a python toolkit we made to play around with RA.  We'll get started with a quick tutorial, but the syntax should also be pretty intuitive (feel free to look at the source code too!)\n",
    "\n",
    "#### BaseRelation class\n",
    "\n",
    "Recall that in our RA operations we'll deal with sets; to get started, we need to take SQL output and turn it into a `BaseRelation` object, which we can optionally name:"
   ]
  },
  {
   "cell_type": "code",
   "execution_count": 4,
   "metadata": {
    "collapsed": false
   },
   "outputs": [
    {
     "name": "stdout",
     "output_type": "stream",
     "text": [
      "Done.\n",
      "Done.\n",
      "Done.\n"
     ]
    }
   ],
   "source": [
    "r = %sql SELECT * FROM R;\n",
    "R = BaseRelation(r, name=\"R\")\n",
    "\n",
    "s = %sql SELECT * FROM S;\n",
    "S = BaseRelation(s, name=\"S\")\n",
    "\n",
    "t = %sql SELECT * FROM T;\n",
    "T = BaseRelation(t, name=\"T\")"
   ]
  },
  {
   "cell_type": "markdown",
   "metadata": {},
   "source": [
    "For **all operators in our toolkit**, we can use `get_result` to see the set we have:"
   ]
  },
  {
   "cell_type": "code",
   "execution_count": 5,
   "metadata": {
    "collapsed": false
   },
   "outputs": [
    {
     "name": "stdout",
     "output_type": "stream",
     "text": [
      "[(0, 0), (0, 3), (0, 6), (0, 9), (2, 0), (2, 3), (2, 6), (2, 9), (4, 0), (4, 3), (4, 6), (4, 9), (6, 0), (6, 3), (6, 6), (6, 9), (8, 0), (8, 3), (8, 6), (8, 9)]\n"
     ]
    }
   ],
   "source": [
    "print get_result(R)"
   ]
  },
  {
   "cell_type": "markdown",
   "metadata": {},
   "source": [
    "And (again **for all operators in our toolkit**) we can use `render_markdown(R)`\n",
    "\n",
    "**_NOTE: This function requires that you have installed the `markdown` python library.  It's just for this function / pretty printing, so if you weren't able to install this library, don't worry!_**"
   ]
  },
  {
   "cell_type": "code",
   "execution_count": 6,
   "metadata": {
    "collapsed": false
   },
   "outputs": [
    {
     "data": {
      "text/html": [
       "<p>R(A,B)</p>"
      ],
      "text/plain": [
       "<IPython.core.display.HTML object>"
      ]
     },
     "metadata": {},
     "output_type": "display_data"
    },
    {
     "data": {
      "text/html": [
       "<p>S(B,C)</p>"
      ],
      "text/plain": [
       "<IPython.core.display.HTML object>"
      ]
     },
     "metadata": {},
     "output_type": "display_data"
    },
    {
     "data": {
      "text/html": [
       "<p>T(C,D)</p>"
      ],
      "text/plain": [
       "<IPython.core.display.HTML object>"
      ]
     },
     "metadata": {},
     "output_type": "display_data"
    }
   ],
   "source": [
    "render_markdown(R)\n",
    "render_markdown(S)\n",
    "render_markdown(T)"
   ]
  },
  {
   "cell_type": "markdown",
   "metadata": {},
   "source": [
    "#### Selection, Projection, NJoin classes"
   ]
  },
  {
   "cell_type": "code",
   "execution_count": 7,
   "metadata": {
    "collapsed": false
   },
   "outputs": [
    {
     "data": {
      "text/html": [
       "<p>$\\sigma_{A=2}$(R(A,B))</p>"
      ],
      "text/plain": [
       "<IPython.core.display.HTML object>"
      ]
     },
     "metadata": {},
     "output_type": "display_data"
    },
    {
     "name": "stdout",
     "output_type": "stream",
     "text": [
      "[(2, 0), (2, 3), (2, 6), (2, 9)]\n"
     ]
    }
   ],
   "source": [
    "s = Select(\"A\", 2, R)\n",
    "render_markdown(s)\n",
    "print get_result(s)"
   ]
  },
  {
   "cell_type": "code",
   "execution_count": 8,
   "metadata": {
    "collapsed": false
   },
   "outputs": [
    {
     "data": {
      "text/html": [
       "<p>$\\Pi_{A}$(R(A,B))</p>"
      ],
      "text/plain": [
       "<IPython.core.display.HTML object>"
      ]
     },
     "metadata": {},
     "output_type": "display_data"
    },
    {
     "name": "stdout",
     "output_type": "stream",
     "text": [
      "[(2,), (8,), (0,), (6,), (4,)]\n"
     ]
    }
   ],
   "source": [
    "p = Project([\"A\"], R)\n",
    "render_markdown(p)\n",
    "print get_result(p)"
   ]
  },
  {
   "cell_type": "code",
   "execution_count": 9,
   "metadata": {
    "collapsed": false
   },
   "outputs": [
    {
     "data": {
      "text/html": [
       "<p>( R(A,B) ) $\\Join_{B}$ ( S(B,C) )</p>"
      ],
      "text/plain": [
       "<IPython.core.display.HTML object>"
      ]
     },
     "metadata": {},
     "output_type": "display_data"
    },
    {
     "name": "stdout",
     "output_type": "stream",
     "text": [
      "[(0, 0, 0), (0, 0, 2), (0, 0, 4), (0, 0, 6), (0, 0, 8), (2, 0, 0), (2, 0, 2), (2, 0, 4), (2, 0, 6), (2, 0, 8), (4, 0, 0), (4, 0, 2), (4, 0, 4), (4, 0, 6), (4, 0, 8), (6, 0, 0), (6, 0, 2), (6, 0, 4), (6, 0, 6), (6, 0, 8), (8, 0, 0), (8, 0, 2), (8, 0, 4), (8, 0, 6), (8, 0, 8)]\n"
     ]
    }
   ],
   "source": [
    "j = NJoin(R, S)\n",
    "render_markdown(j)\n",
    "print get_result(j)"
   ]
  },
  {
   "cell_type": "markdown",
   "metadata": {},
   "source": [
    "#### Compositionality\n",
    "\n",
    "Most importantly, these operators are all compositional, so you can pass them in as inputs to each other (as we already did with passing `BaseRelation` into the operators above)!"
   ]
  },
  {
   "cell_type": "markdown",
   "metadata": {},
   "source": [
    "### Exercise 1: SQL -> RA\n",
    "\n",
    "Let's go through some examples where we'll translate SQL to Relational Algebra- note you can use the tools to debug / test your answers!\n",
    "\n",
    "**NOTE: The instances we usre are randomly generated- feel free to re-generate above to get more useful test examples!**"
   ]
  },
  {
   "cell_type": "code",
   "execution_count": 10,
   "metadata": {
    "collapsed": false
   },
   "outputs": [
    {
     "name": "stdout",
     "output_type": "stream",
     "text": [
      "Done.\n",
      "Done.\n"
     ]
    },
    {
     "data": {
      "text/html": [
       "<table style=\"display: inline-block;\"><tr><th>A</th><th>B</th></tr><tr><td>0</td><td>0</td></tr><tr><td>0</td><td>3</td></tr><tr><td>0</td><td>6</td></tr><tr><td>0</td><td>9</td></tr><tr><td>2</td><td>0</td></tr><tr><td>2</td><td>3</td></tr><tr><td>2</td><td>6</td></tr><tr><td>2</td><td>9</td></tr><tr><td>4</td><td>0</td></tr><tr><td>4</td><td>3</td></tr><tr><td>4</td><td>6</td></tr><tr><td>4</td><td>9</td></tr><tr><td>6</td><td>0</td></tr><tr><td>6</td><td>3</td></tr><tr><td>6</td><td>6</td></tr><tr><td>6</td><td>9</td></tr><tr><td>8</td><td>0</td></tr><tr><td>8</td><td>3</td></tr><tr><td>8</td><td>6</td></tr><tr><td>8</td><td>9</tr></table> <table style=\"display: inline-block;\"><tr><th>B</th><th>C</th></tr><tr><td>0</td><td>0</td></tr><tr><td>0</td><td>2</td></tr><tr><td>0</td><td>4</td></tr><tr><td>0</td><td>6</td></tr><tr><td>0</td><td>8</td></tr><tr><td>4</td><td>0</td></tr><tr><td>4</td><td>2</td></tr><tr><td>4</td><td>4</td></tr><tr><td>4</td><td>6</td></tr><tr><td>4</td><td>8</td></tr><tr><td>8</td><td>0</td></tr><tr><td>8</td><td>2</td></tr><tr><td>8</td><td>4</td></tr><tr><td>8</td><td>6</td></tr><tr><td>8</td><td>8</td></tr><tr><td>12</td><td>0</td></tr><tr><td>12</td><td>2</td></tr><tr><td>12</td><td>4</td></tr><tr><td>12</td><td>6</td></tr><tr><td>12</td><td>8</td></tr><tr><td>16</td><td>0</td></tr><tr><td>16</td><td>2</td></tr><tr><td>16</td><td>4</td></tr><tr><td>16</td><td>6</td></tr><tr><td>16</td><td>8</tr></table>"
      ]
     },
     "metadata": {},
     "output_type": "display_data"
    }
   ],
   "source": [
    "r = %sql SELECT * FROM R;\n",
    "s = %sql SELECT * FROM S;\n",
    "side_by_side(r,s)"
   ]
  },
  {
   "cell_type": "markdown",
   "metadata": {},
   "source": [
    "**For each of the below queries, translate them from SQL into RA using the python RA toolkit!**"
   ]
  },
  {
   "cell_type": "markdown",
   "metadata": {},
   "source": [
    "### Excercise 1a"
   ]
  },
  {
   "cell_type": "code",
   "execution_count": null,
   "metadata": {
    "collapsed": false
   },
   "outputs": [],
   "source": [
    "%%sql\n",
    "SELECT DISTINCT R.B\n",
    "FROM R\n",
    "WHERE R.A = 2;"
   ]
  },
  {
   "cell_type": "code",
   "execution_count": 11,
   "metadata": {
    "collapsed": false
   },
   "outputs": [
    {
     "name": "stdout",
     "output_type": "stream",
     "text": [
      "Done.\n"
     ]
    },
    {
     "data": {
      "text/html": [
       "<p>$\\Pi_{B}$($\\sigma_{A=2}$(R(A,B)))</p>"
      ],
      "text/plain": [
       "<IPython.core.display.HTML object>"
      ]
     },
     "metadata": {},
     "output_type": "display_data"
    },
    {
     "name": "stdout",
     "output_type": "stream",
     "text": [
      "True\n"
     ]
    }
   ],
   "source": [
    "X = %sql SELECT DISTINCT R.B FROM R WHERE R.A = 2;\n",
    "x = BaseRelation(X)\n",
    "\n",
    "y = Project([\"B\"], Select(\"A\",2,R))\n",
    "render_markdown(y)\n",
    "\n",
    "print compare_results(x,y)"
   ]
  },
  {
   "cell_type": "markdown",
   "metadata": {},
   "source": [
    "### Exercise 1b"
   ]
  },
  {
   "cell_type": "code",
   "execution_count": null,
   "metadata": {
    "collapsed": false
   },
   "outputs": [],
   "source": [
    "%%sql\n",
    "SELECT DISTINCT R.A, S.C\n",
    "FROM R, S\n",
    "WHERE R.B = S.B;"
   ]
  },
  {
   "cell_type": "code",
   "execution_count": 12,
   "metadata": {
    "collapsed": false
   },
   "outputs": [
    {
     "name": "stdout",
     "output_type": "stream",
     "text": [
      "Done.\n"
     ]
    },
    {
     "data": {
      "text/html": [
       "<p>$\\Pi_{A,C}$(( R(A,B) ) $\\Join_{B}$ ( S(B,C) ))</p>"
      ],
      "text/plain": [
       "<IPython.core.display.HTML object>"
      ]
     },
     "metadata": {},
     "output_type": "display_data"
    },
    {
     "name": "stdout",
     "output_type": "stream",
     "text": [
      "True\n"
     ]
    }
   ],
   "source": [
    "X = %sql SELECT DISTINCT R.A, S.C FROM R, S WHERE R.B = S.B;\n",
    "x = BaseRelation(X)\n",
    "\n",
    "y = Project([\"A\",\"C\"], NJoin(R,S))\n",
    "render_markdown(y)\n",
    "\n",
    "print compare_results(x,y)"
   ]
  },
  {
   "cell_type": "markdown",
   "metadata": {},
   "source": [
    "### Exercise 1c"
   ]
  },
  {
   "cell_type": "code",
   "execution_count": null,
   "metadata": {
    "collapsed": false
   },
   "outputs": [],
   "source": [
    "%%sql\n",
    "SELECT DISTINCT R.A, T.D\n",
    "FROM R, S, T\n",
    "WHERE R.B = S.B AND S.C = T.C AND R.A = 2;"
   ]
  },
  {
   "cell_type": "code",
   "execution_count": 13,
   "metadata": {
    "collapsed": false
   },
   "outputs": [
    {
     "name": "stdout",
     "output_type": "stream",
     "text": [
      "Done.\n"
     ]
    },
    {
     "data": {
      "text/html": [
       "<p>$\\Pi_{A,D}$(( ( $\\sigma_{A=2}$(R(A,B)) ) $\\Join_{B}$ ( S(B,C) ) ) $\\Join_{C}$ ( T(C,D) ))</p>"
      ],
      "text/plain": [
       "<IPython.core.display.HTML object>"
      ]
     },
     "metadata": {},
     "output_type": "display_data"
    },
    {
     "name": "stdout",
     "output_type": "stream",
     "text": [
      "True\n"
     ]
    }
   ],
   "source": [
    "X = %sql SELECT DISTINCT R.A, T.D FROM R, S, T WHERE R.B = S.B AND S.C = T.C AND R.A = 2;\n",
    "x = BaseRelation(X)\n",
    "\n",
    "y = Project([\"A\",\"D\"], NJoin(NJoin(Select(\"A\",2,R),S),T))\n",
    "render_markdown(y)\n",
    "\n",
    "print compare_results(x,y)"
   ]
  },
  {
   "cell_type": "markdown",
   "metadata": {},
   "source": [
    "### Exercise 2: RA -> SQL\n",
    "\n",
    "Let's go through some examples where we'll translate Relational Algebra to SQL- note you can use the tools to debug / test your answers!\n",
    "\n",
    "**NOTE: The instances we usre are randomly generated- feel free to re-generate above to get more useful test examples!**"
   ]
  },
  {
   "cell_type": "markdown",
   "metadata": {},
   "source": [
    "### Exercise 2a"
   ]
  },
  {
   "cell_type": "code",
   "execution_count": 15,
   "metadata": {
    "collapsed": false
   },
   "outputs": [
    {
     "data": {
      "text/html": [
       "<p>$\\sigma_{B=0}$($\\Pi_{B}$(S(B,C)))</p>"
      ],
      "text/plain": [
       "<IPython.core.display.HTML object>"
      ]
     },
     "metadata": {},
     "output_type": "display_data"
    },
    {
     "name": "stdout",
     "output_type": "stream",
     "text": [
      "[(0,)]\n"
     ]
    }
   ],
   "source": [
    "x = Select(\"B\", 0, Project([\"B\"], BaseRelation(s, name=\"S\")))\n",
    "render_markdown(x)\n",
    "print get_result(x)"
   ]
  },
  {
   "cell_type": "code",
   "execution_count": null,
   "metadata": {
    "collapsed": true
   },
   "outputs": [],
   "source": [
    "%%sql\n",
    "SELECT DISTINCT S.B\n",
    "FROM S\n",
    "WHERE S.B = 0;"
   ]
  },
  {
   "cell_type": "code",
   "execution_count": 22,
   "metadata": {
    "collapsed": false
   },
   "outputs": [
    {
     "name": "stdout",
     "output_type": "stream",
     "text": [
      "Done.\n",
      "True\n"
     ]
    }
   ],
   "source": [
    "y = %sql SELECT DISTINCT S.B FROM S WHERE S.B = 0;\n",
    "print compare_results(x, BaseRelation(y))"
   ]
  },
  {
   "cell_type": "markdown",
   "metadata": {},
   "source": [
    "### Exercise 2b"
   ]
  },
  {
   "cell_type": "code",
   "execution_count": 24,
   "metadata": {
    "collapsed": false
   },
   "outputs": [
    {
     "data": {
      "text/html": [
       "<p>$\\Pi_{A,C}$(( ( $\\sigma_{B=0}$(R(A,B)) ) $\\Join_{B}$ ( S(B,C) ) ) $\\Join_{C}$ ( $\\sigma_{C=0}$(T(C,D)) ))</p>"
      ],
      "text/plain": [
       "<IPython.core.display.HTML object>"
      ]
     },
     "metadata": {},
     "output_type": "display_data"
    },
    {
     "name": "stdout",
     "output_type": "stream",
     "text": [
      "[(8, 0), (2, 0), (0, 0), (6, 0), (4, 0)]\n"
     ]
    }
   ],
   "source": [
    "x = Project([\"A\",\"C\"],\n",
    "        NJoin(\n",
    "            NJoin(Select(\"B\", 0, BaseRelation(r, name=\"R\")), BaseRelation(s, name=\"S\")),\n",
    "            Select(\"C\", 0, BaseRelation(t, name=\"T\"))))\n",
    "render_markdown(x)\n",
    "print get_result(x)"
   ]
  },
  {
   "cell_type": "code",
   "execution_count": null,
   "metadata": {
    "collapsed": true
   },
   "outputs": [],
   "source": [
    "%%sql\n",
    "SELECT DISTINCT R.A, T.C\n",
    "FROM R, S, T\n",
    "WHERE R.B = S.B\n",
    "  AND S.C = T.C\n",
    "  AND T.C = 0\n",
    "  AND R.B = 0;"
   ]
  },
  {
   "cell_type": "code",
   "execution_count": 25,
   "metadata": {
    "collapsed": false
   },
   "outputs": [
    {
     "name": "stdout",
     "output_type": "stream",
     "text": [
      "Done.\n",
      "True\n"
     ]
    }
   ],
   "source": [
    "y = %sql SELECT DISTINCT R.A, T.C FROM R, S, T WHERE R.B = S.B AND S.C = T.C AND T.C = 0 AND R.B = 0;\n",
    "print compare_results(x, BaseRelation(y))"
   ]
  },
  {
   "cell_type": "markdown",
   "metadata": {},
   "source": [
    "### Exercise 2c\n",
    "\n",
    "Turn the below into SQL!  Optionally, turn it into an RA expression in our toolkit first!\n"
   ]
  },
  {
   "cell_type": "markdown",
   "metadata": {},
   "source": [
    "<img src=\"files/Act-16-1.png\">"
   ]
  },
  {
   "cell_type": "code",
   "execution_count": 29,
   "metadata": {
    "collapsed": false
   },
   "outputs": [
    {
     "name": "stdout",
     "output_type": "stream",
     "text": [
      "Done.\n"
     ]
    },
    {
     "data": {
      "text/html": [
       "<p>$\\Pi_{A}$(( R(A,B) ) $\\Join_{B}$ ( ( $\\Pi_{B,D}$(( S(B,C) ) $\\Join_{C}$ ( $\\sigma_{D=3}$(T(C,D)) )) ) $\\Join_{D}$ ( $\\Pi_{D}$($\\sigma_{E=1}$(U(D,E))) ) ))</p>"
      ],
      "text/plain": [
       "<IPython.core.display.HTML object>"
      ]
     },
     "metadata": {},
     "output_type": "display_data"
    },
    {
     "name": "stdout",
     "output_type": "stream",
     "text": [
      "Done.\n",
      "True\n"
     ]
    }
   ],
   "source": [
    "u = %sql SELECT * FROM U;\n",
    "U = BaseRelation(u, name=\"U\")\n",
    "x = Project([\"A\"], NJoin(R, NJoin(Project([\"B\",\"D\"], NJoin(S, Select(\"D\",3,T))), Project([\"D\"],Select(\"E\",1,U)))))\n",
    "render_markdown(x)\n",
    "\n",
    "y = %sql SELECT DISTINCT R.A FROM R, S, T, U WHERE R.B = S.B AND S.C = T.C AND T.D = U.D AND T.D = 3 AND U.E = 1;\n",
    "print compare_results(x, BaseRelation(y))"
   ]
  },
  {
   "cell_type": "markdown",
   "metadata": {},
   "source": [
    "### Discussion time @ the whiteboard!\n",
    "\n",
    "What is the general form of an SFW query in RA?"
   ]
  },
  {
   "cell_type": "markdown",
   "metadata": {},
   "source": [
    "Given a general SFW SQL query:\n",
    "```SQL\n",
    "SELECT A_1, ..., A_n\n",
    "FROM R_1, ..., R_m\n",
    "WHERE c_1, ..., c_k;\n",
    "```\n",
    "\n",
    "We can expresss this in relational algebra as follows:\n",
    "\n",
    "$\\Pi_{A_1,...,A_n}(\\sigma_{c_1}\\cdots \\sigma_{c_k}(R_1 \\Join \\cdots \\Join R_m))$"
   ]
  }
 ],
 "metadata": {
  "kernelspec": {
   "display_name": "Python 2",
   "language": "python",
   "name": "python2"
  },
  "language_info": {
   "codemirror_mode": {
    "name": "ipython",
    "version": 2
   },
   "file_extension": ".py",
   "mimetype": "text/x-python",
   "name": "python",
   "nbconvert_exporter": "python",
   "pygments_lexer": "ipython2",
   "version": "2.7.10"
  }
 },
 "nbformat": 4,
 "nbformat_minor": 0
}
