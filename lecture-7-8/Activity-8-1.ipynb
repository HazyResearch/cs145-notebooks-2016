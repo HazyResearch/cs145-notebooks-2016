{
 "cells": [
  {
   "cell_type": "markdown",
   "metadata": {},
   "source": [
    "Activity 8-1\n",
    "------------\n",
    "\n",
    "In this activity, we'll introduce a visualization of TXNs that we made- the **TXN Viewer**!\n",
    "\n",
    "To get the TXN Viewer to work, make sure that the following files are in the _same directory_ as this IPython notebook:\n",
    "* `txn_viewer.py`\n",
    "* `txnViewer.js`\n",
    "\n",
    "Also note that you'll need an internet connection to use the TXN Viewer (just for loading the javascript animation library!)\n",
    "\n",
    "### Activity:\n",
    "\n",
    "We'll start with the example from lecture, implemented in serial fashion in our TXN viewer:"
   ]
  },
  {
   "cell_type": "code",
   "execution_count": null,
   "metadata": {
    "collapsed": false
   },
   "outputs": [],
   "source": [
    "from txn_viewer import TransactionManager\n",
    "\n",
    "# We create a TransactionManager object with a certain number of threads,\n",
    "# and optionally with initial\n",
    "tm = TransactionManager(n_threads=2, initial_main_vals={'A':50, 'B':200})\n",
    "\n",
    "# Step 1: Give interest\n",
    "INTEREST_RATE = 1.06\n",
    "\n",
    "a0 = tm.read(0, 'A')\n",
    "tm.write(0, 'A', a0*INTEREST_RATE)\n",
    "\n",
    "b0 = tm.read(0, 'B')\n",
    "tm.write(0, 'B', b0*INTEREST_RATE)\n",
    "\n",
    "\n",
    "# Step 2: Transfer funds\n",
    "\n",
    "a1 = tm.read(1, 'A')\n",
    "tm.write(1, 'A', a1 + 100)\n",
    "\n",
    "b1 = tm.read(1, 'B')\n",
    "tm.write(1, 'B', b1 - 100)\n",
    "\n",
    "tm.display(chart_num=0)"
   ]
  },
  {
   "cell_type": "markdown",
   "metadata": {},
   "source": [
    "### Exercise 1: Come up with _serializable_ schedules for the above\n",
    "\n",
    "How many can you find?  What about unserializable ones?  Use the above TXN viewer to explore.  We'll go through some together..."
   ]
  },
  {
   "cell_type": "code",
   "execution_count": null,
   "metadata": {
    "collapsed": true
   },
   "outputs": [],
   "source": []
  },
  {
   "cell_type": "markdown",
   "metadata": {},
   "source": [
    "### Exercise 2: What kind of anomaly occurs below?"
   ]
  },
  {
   "cell_type": "code",
   "execution_count": null,
   "metadata": {
    "collapsed": false
   },
   "outputs": [],
   "source": [
    "from txn_viewer import TransactionManager\n",
    "\n",
    "# We create a TransactionManager object with a certain number of threads,\n",
    "# and optionally with initial\n",
    "tm = TransactionManager(n_threads=3, initial_main_vals={'A':50})\n",
    "\n",
    "a0 = tm.read(0, 'A')\n",
    "\n",
    "tm.write(1, 'A', 65)\n",
    "\n",
    "tm.write(0, 'A', 45)\n",
    "\n",
    "tm.write(2, 'A', 75)\n",
    "\n",
    "tm.display(chart_num=1)"
   ]
  },
  {
   "cell_type": "code",
   "execution_count": null,
   "metadata": {
    "collapsed": true
   },
   "outputs": [],
   "source": []
  },
  {
   "cell_type": "markdown",
   "metadata": {},
   "source": [
    "### Exercise 3: Come up with examples of classic anomalies\n",
    "\n",
    "Have the general context of your example be something involving one or two accounts at a bank, otherwise feel free to be creative.  We'll go through some together if there's time..."
   ]
  },
  {
   "cell_type": "code",
   "execution_count": null,
   "metadata": {
    "collapsed": true
   },
   "outputs": [],
   "source": []
  }
 ],
 "metadata": {
  "kernelspec": {
   "display_name": "Python 2",
   "language": "python",
   "name": "python2"
  },
  "language_info": {
   "codemirror_mode": {
    "name": "ipython",
    "version": 2
   },
   "file_extension": ".py",
   "mimetype": "text/x-python",
   "name": "python",
   "nbconvert_exporter": "python",
   "pygments_lexer": "ipython2",
   "version": "2.7.10"
  }
 },
 "nbformat": 4,
 "nbformat_minor": 0
}
