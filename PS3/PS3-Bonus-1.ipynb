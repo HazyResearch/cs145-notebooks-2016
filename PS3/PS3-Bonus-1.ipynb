{
 "cells": [
  {
   "cell_type": "code",
   "execution_count": 2,
   "metadata": {
    "collapsed": false
   },
   "outputs": [
    {
     "name": "stdout",
     "output_type": "stream",
     "text": [
      "The autoreload extension is already loaded. To reload it, use:\n",
      "  %reload_ext autoreload\n"
     ]
    },
    {
     "ename": "ImportError",
     "evalue": "No module named io_backend",
     "output_type": "error",
     "traceback": [
      "\u001b[0;31m---------------------------------------------------------------------------\u001b[0m",
      "\u001b[0;31mImportError\u001b[0m                               Traceback (most recent call last)",
      "\u001b[0;32m<ipython-input-2-167e0a4210fe>\u001b[0m in \u001b[0;36m<module>\u001b[0;34m()\u001b[0m\n\u001b[1;32m      1\u001b[0m \u001b[0mget_ipython\u001b[0m\u001b[0;34m(\u001b[0m\u001b[0;34m)\u001b[0m\u001b[0;34m.\u001b[0m\u001b[0mmagic\u001b[0m\u001b[0;34m(\u001b[0m\u001b[0;34mu'load_ext autoreload'\u001b[0m\u001b[0;34m)\u001b[0m\u001b[0;34m\u001b[0m\u001b[0m\n\u001b[1;32m      2\u001b[0m \u001b[0mget_ipython\u001b[0m\u001b[0;34m(\u001b[0m\u001b[0;34m)\u001b[0m\u001b[0;34m.\u001b[0m\u001b[0mmagic\u001b[0m\u001b[0;34m(\u001b[0m\u001b[0;34mu'autoreload 2'\u001b[0m\u001b[0;34m)\u001b[0m\u001b[0;34m\u001b[0m\u001b[0m\n\u001b[0;32m----> 3\u001b[0;31m \u001b[0;32mimport\u001b[0m \u001b[0mio_backend\u001b[0m \u001b[0;32mas\u001b[0m \u001b[0mio\u001b[0m\u001b[0;34m\u001b[0m\u001b[0m\n\u001b[0m",
      "\u001b[0;31mImportError\u001b[0m: No module named io_backend"
     ]
    }
   ],
   "source": [
    "%load_ext autoreload\n",
    "%autoreload 2\n",
    "import io_backend as io"
   ]
  },
  {
   "cell_type": "markdown",
   "metadata": {},
   "source": [
    "Problem Set 3: BONUS #1\n",
    "=============\n",
    "\n",
    "\n",
    "### Instructions / Notes:\n",
    "\n",
    "**_Read these carefully_**\n",
    "\n",
    "* **RECOMMENDED: ONLY USE ONE D3 DISPLAY WINDOW AT A TIME; CLEAR THE OUTPUT (\"Cell >> Current Output >> Clear\") of all ones not being used!**\n",
    "* Note that support for the visualization tools herein is somewhat more limited- however we still welcome your feedback on bugs, suggestions for improvement, etc!\n",
    "* **See Piazza for submission instructions**\n",
    "* _Have fun!_"
   ]
  },
  {
   "cell_type": "markdown",
   "metadata": {},
   "source": [
    "### Bonus 1: Aware.io\n",
    "\n",
    "**_[10 points]_**\n",
    "\n",
    "Your startup, Aware.io, has hired a new employee named Hipster Doofus, who prefers to go by \"HD\".  HD implements the following algorithm to find duplicates, over a very simple set of single-attribute relations (i.e. the join returns pairs of tuples with the same value).  Can you improve it to have better performance?  And what is your new version commonly called?"
   ]
  },
  {
   "cell_type": "code",
   "execution_count": 94,
   "metadata": {
    "collapsed": true
   },
   "outputs": [],
   "source": [
    "def nested_loop_join(b, fid1, fid2):\n",
    "    P = b.page_size\n",
    "    \n",
    "    # A FileIterator object will get the next element from the next\n",
    "    # page in a file\n",
    "    fi1 = io.FileIterator(b, fid1)\n",
    "    \n",
    "    # Loop through the r values\n",
    "    for r in fi1:\n",
    "        \n",
    "        # Loop through the s values\n",
    "        fi2 = io.FileIterator(b, fid2)\n",
    "        for s in fi2:\n",
    "            \n",
    "            # If duplicate found, print!\n",
    "            if r == s:\n",
    "                print 'Duplicate found: %s' % r"
   ]
  },
  {
   "cell_type": "code",
   "execution_count": 95,
   "metadata": {
    "collapsed": false
   },
   "outputs": [
    {
     "name": "stdout",
     "output_type": "stream",
     "text": [
      "Duplicate found: 38\n"
     ]
    }
   ],
   "source": [
    "# Create the buffer, specifying that sequential IO will have zero cost!\n",
    "# Here we specify that each page has 2 values, and the buffer has 3 pages\n",
    "b = io.Buffer(page_size=2, buffer_size=5)\n",
    "\n",
    "# Create two sorted files of random integer values\n",
    "fid1 = io.new_rand_file(b, 8, sorted=False)\n",
    "fid2 = io.new_rand_file(b, 8, sorted=False)\n",
    "\n",
    "# Set the starting point for any animations here, to skip the setup part\n",
    "b.display_set_mark()\n",
    "\n",
    "# Merge the files!\n",
    "nested_loop_join(b, fid1, fid2)"
   ]
  },
  {
   "cell_type": "code",
   "execution_count": null,
   "metadata": {
    "collapsed": false
   },
   "outputs": [],
   "source": [
    "b.display(speed=500)"
   ]
  }
 ],
 "metadata": {
  "kernelspec": {
   "display_name": "Python 2",
   "language": "python",
   "name": "python2"
  },
  "language_info": {
   "codemirror_mode": {
    "name": "ipython",
    "version": 2
   },
   "file_extension": ".py",
   "mimetype": "text/x-python",
   "name": "python",
   "nbconvert_exporter": "python",
   "pygments_lexer": "ipython2",
   "version": "2.7.10"
  }
 },
 "nbformat": 4,
 "nbformat_minor": 0
}
