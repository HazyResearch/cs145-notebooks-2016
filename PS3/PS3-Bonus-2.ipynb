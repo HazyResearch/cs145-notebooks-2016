{
 "cells": [
  {
   "cell_type": "code",
   "execution_count": 3,
   "metadata": {
    "collapsed": false
   },
   "outputs": [
    {
     "name": "stdout",
     "output_type": "stream",
     "text": [
      "The autoreload extension is already loaded. To reload it, use:\n",
      "  %reload_ext autoreload\n"
     ]
    }
   ],
   "source": [
    "%load_ext autoreload\n",
    "%autoreload 2\n",
    "import io_backend as io"
   ]
  },
  {
   "cell_type": "markdown",
   "metadata": {},
   "source": [
    "Problem Set 3: BONUS #2\n",
    "=============\n",
    "\n",
    "\n",
    "### Instructions / Notes:\n",
    "\n",
    "**_Read these carefully_**\n",
    "\n",
    "* **RECOMMENDED: ONLY USE ONE D3 DISPLAY WINDOW AT A TIME; CLEAR THE OUTPUT (\"Cell >> Current Output >> Clear\") of all ones not being used!**\n",
    "* Note that support for the visualization tools herein is somewhat more limited- however we still welcome your feedback on bugs, suggestions for improvement, etc!\n",
    "* **See Piazza for submission instructions**\n",
    "* _Have fun!_"
   ]
  },
  {
   "cell_type": "markdown",
   "metadata": {},
   "source": [
    "### Bonus 2\n",
    "\n",
    "**_[15 points]_**\n",
    "\n",
    "Modify the below implementation of external merge (for two files) to implement the _double buffering_ optimization, assuming that you can read in two pages for the same IO cost as one.  Feel free to use the _buffer visualizer_ to see what your algorithm is doing!"
   ]
  },
  {
   "cell_type": "code",
   "execution_count": 62,
   "metadata": {
    "collapsed": false
   },
   "outputs": [],
   "source": [
    "def external_merge(b, fid1, fid2):\n",
    "    \"\"\"External 2-way merge (see External_Merge_Sort.ipynb for B-way)\"\"\"\n",
    "    P = b.page_size\n",
    "    \n",
    "    # A FileWriter object will append elements to a file, creating\n",
    "    # & flushing pages so as to take up one page in buffer\n",
    "    fid_out = b.new_file()\n",
    "    fw = io.FileWriter(b, fid_out)\n",
    "    \n",
    "    # Get the file lists- these are just lists of ids of pages in the file...\n",
    "    pids1 = b.get_file(fid1)\n",
    "    pids2 = b.get_file(fid2)\n",
    "    \n",
    "    # Read one page from each file on disk into the buffer\n",
    "    page1 = b.read(fid1, pids1.pop(0))\n",
    "    page2 = b.read(fid2, pids2.pop(0))\n",
    "    \n",
    "    # Run the merge over the pages in the two files\n",
    "    while page1 or page2:\n",
    "        \n",
    "        # If page 1 is not None & empty, release it & try to load a new page\n",
    "        if page1 and page1.is_empty():\n",
    "            b.release(page1)\n",
    "            page1 = b.read(fid1, pids1.pop(0)) if len(pids1) > 0 else None\n",
    "        \n",
    "        # If page 2 is not None & empty try to load a new page\n",
    "        elif page2 and page2.is_empty():\n",
    "            b.release(page2)\n",
    "            page2 = b.read(fid2, pids2.pop(0)) if len(pids2) > 0 else None\n",
    "        \n",
    "        # Else, send the smaller of the page values to the FileWriter\n",
    "        else:\n",
    "            if page2 is None or (page1 and page1.peek() <= page2.peek()):\n",
    "                fw.append(page1.pop())\n",
    "            else:\n",
    "                fw.append(page2.pop())\n",
    "    fw.close()\n",
    "    return fid_out"
   ]
  },
  {
   "cell_type": "code",
   "execution_count": 63,
   "metadata": {
    "collapsed": false
   },
   "outputs": [],
   "source": [
    "# Create the buffer, specifying that sequential IO will have zero cost!\n",
    "# Here we specify that each page has 2 values, and the buffer has 3 pages\n",
    "b = io.Buffer(page_size=2, buffer_size=3, sequential_cost=0)\n",
    "\n",
    "# Create two sorted files of random integer values\n",
    "fid1 = io.new_rand_file(b, 8, sorted=True)\n",
    "fid2 = io.new_rand_file(b, 8, sorted=True)\n",
    "\n",
    "# Set the starting point for any animations here, to skip the setup part\n",
    "b.display_set_mark()\n",
    "\n",
    "# Merge the files!\n",
    "merged_fid = external_merge(b, fid1, fid2)"
   ]
  },
  {
   "cell_type": "code",
   "execution_count": null,
   "metadata": {
    "collapsed": false
   },
   "outputs": [],
   "source": [
    "b.display(speed=500)"
   ]
  }
 ],
 "metadata": {
  "kernelspec": {
   "display_name": "Python 2",
   "language": "python",
   "name": "python2"
  },
  "language_info": {
   "codemirror_mode": {
    "name": "ipython",
    "version": 2
   },
   "file_extension": ".py",
   "mimetype": "text/x-python",
   "name": "python",
   "nbconvert_exporter": "python",
   "pygments_lexer": "ipython2",
   "version": "2.7.10"
  }
 },
 "nbformat": 4,
 "nbformat_minor": 0
}
