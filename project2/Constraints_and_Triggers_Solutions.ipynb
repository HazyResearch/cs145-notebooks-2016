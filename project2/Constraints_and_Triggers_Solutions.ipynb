{
 "cells": [
  {
   "cell_type": "markdown",
   "metadata": {},
   "source": [
    "## Constraints and Triggers Activity"
   ]
  },
  {
   "cell_type": "markdown",
   "metadata": {},
   "source": [
    "Constraints and triggers are tools to impose restrictions on allowable data within a database, beyond the requirements imposed by table definition types.\n",
    "\n",
    "**Constraints**, also known as _integrity constraints_, are used to constrain allowable database states.  They prevent disallowed values from being entered into the database. \n",
    "* non-null constraints\n",
    "  * `create Table MyTable(myValue dataType NOT NULL);`\n",
    "* key or uniqueness constraints \n",
    "  * `create Table MyTable(myId int PRIMARY KEY);`\n",
    "  * `create Table MyTable(myValue1 dataType, myValue2 dataType, UNIQUE(myValue1,myValue2));`\n",
    "* attribute restrictions\n",
    "  * `create Table MyTable(myValue dataType check(myValue > 0))`\n",
    "* referential integrity  (a.k.a. foreign keys)\n",
    "  * `create Table MyTable(otherId int, foreign key(otherId) references OtherTable(otherColumn))`\n",
    "\n",
    "**Triggers** are procedures that get run when specified events in a database view or table occur.  They are useful for implementing monitoring logic at the database level.\n",
    "* delete/update/insert\n",
    "* before/after/instead of\n",
    "* when(condition)\n",
    "* row-level/statement level\n"
   ]
  },
  {
   "cell_type": "markdown",
   "metadata": {},
   "source": [
    "## Activity 1 - Constraints\n",
    "\n",
    "Write CREATE TABLE declarations with the necessary constraints for the following 4 tables and their specifications:\n",
    "\n",
    "* `Student(sID, name, parentEmail, gpa)`\n",
    "  * `sID (should be unique)`\n",
    "  * `name (should exist)`\n",
    "  * `parentEmail(should exist)`\n",
    "  * `gpa (real value between 0 and 4 inclusive)`\n",
    "* `Class(cID, name, units)`\n",
    "  * `cID (should be unique)`\n",
    "  * `name (should exist)`\n",
    "  * `units (must be between 1 and 5 inclusive)`\n",
    "* `ClassGrade(sID, cID, grade)`\n",
    "  * `sID (should reference a student)`\n",
    "  * `cID (should reference a class)`\n",
    "  * `grade (integer between 0 and 4 inclusive, for F,D,C,B,A)`\n",
    "  * `student can only get 1 grade for each class`\n",
    "* `ParentNotification(parentEmail, text)`\n",
    "  * `parentEmail (should exist)`\n",
    "  * `text (the message body, should exist)`"
   ]
  },
  {
   "cell_type": "code",
   "execution_count": null,
   "metadata": {
    "collapsed": false
   },
   "outputs": [],
   "source": [
    "%load_ext sql\n",
    "%sql sqlite://"
   ]
  },
  {
   "cell_type": "markdown",
   "metadata": {},
   "source": [
    "Write your table definitions here:"
   ]
  },
  {
   "cell_type": "code",
   "execution_count": null,
   "metadata": {
    "collapsed": false
   },
   "outputs": [],
   "source": [
    "%%sql\n",
    "create table Student(sId int PRIMARY KEY, name text NOT NULL, parentEmail text NOT NULL, gpa double check(gpa >= 0 and gpa <= 4));\n",
    "create table Class(cId int PRIMARY KEY, name text NOT NULL, units int check(units > 0 and units < 6));\n",
    "create table ClassGrade(sId int, cId int, grade int check(grade >= 0  and grade <= 4), foreign key(sId) references Student(sId), foreign key(cId) references Class(cId), Primary Key(sId, cId));\n",
    "create table ParentNotification(parentEmail text not null, message text not null);"
   ]
  },
  {
   "cell_type": "markdown",
   "metadata": {},
   "source": [
    "## Activity 2 - Triggers Introduction\n",
    "\n",
    "Triggers are used to execute sql commands upon changes to the specified tables.  Trigger support in SQLite can be found [here](https://www.sqlite.org/lang_createtrigger.html).\n",
    "\n",
    "The following is an example of a trigger in SQLite."
   ]
  },
  {
   "cell_type": "code",
   "execution_count": null,
   "metadata": {
    "collapsed": false
   },
   "outputs": [],
   "source": [
    "%%sql\n",
    "drop table if exists Employee;\n",
    "drop table if exists Department;\n",
    "drop trigger if exists update_employee_count;\n",
    "create table Employee(eID int, name text, dID);\n",
    "create table Department(dID int, name text, employee_count int);"
   ]
  },
  {
   "cell_type": "code",
   "execution_count": null,
   "metadata": {
    "collapsed": false
   },
   "outputs": [],
   "source": [
    "%%sql\n",
    "create trigger update_employee_count\n",
    "after insert on Employee\n",
    "for each row\n",
    "begin\n",
    "  update Department set employee_count = employee_count + 1 where\n",
    "  dID = new.dID;\n",
    "end;"
   ]
  },
  {
   "cell_type": "markdown",
   "metadata": {},
   "source": [
    "Note that there is a difference between OLD values and NEW values in triggers that execute on statements that change values in a table.  Both the WHEN clause and the trigger actions may access elements of the row being inserted, deleted or updated using references of the form \"NEW.column-name\" and \"OLD.column-name\", where column-name is the name of a column from the table that the trigger is associated with.  Triggers on INSERT statements (like that above) can only access the NEW values (since OLD values don't exist!) and triggers on DELETE statements can only access OLD values.\n",
    "\n",
    "Let's continue by adding data to the tables."
   ]
  },
  {
   "cell_type": "code",
   "execution_count": null,
   "metadata": {
    "collapsed": false
   },
   "outputs": [],
   "source": [
    "%%sql\n",
    "insert into Department values(1,'HR',0);\n",
    "insert into Department values(2,'Engineering',0);"
   ]
  },
  {
   "cell_type": "markdown",
   "metadata": {},
   "source": [
    "At this point, there are no empoloyees in the Employee table.  As you can see below, each department has 0 employees."
   ]
  },
  {
   "cell_type": "code",
   "execution_count": null,
   "metadata": {
    "collapsed": false
   },
   "outputs": [],
   "source": [
    "%%sql\n",
    "select name, employee_count\n",
    "from department;"
   ]
  },
  {
   "cell_type": "markdown",
   "metadata": {},
   "source": [
    "When we insert several employees into the Employee table, the trigger should fire and update values in the Department table."
   ]
  },
  {
   "cell_type": "code",
   "execution_count": null,
   "metadata": {
    "collapsed": false
   },
   "outputs": [],
   "source": [
    "%%sql\n",
    "insert into Employee values\n",
    "(1,'Todd',1),(2,'Jimmy',1),(3,'Billy',2);"
   ]
  },
  {
   "cell_type": "markdown",
   "metadata": {},
   "source": [
    "Now when we view the employee table, we see that the employee count has been updated by the trigger."
   ]
  },
  {
   "cell_type": "code",
   "execution_count": null,
   "metadata": {
    "collapsed": false
   },
   "outputs": [],
   "source": [
    "%%sql\n",
    "select name, employee_count\n",
    "from department;"
   ]
  },
  {
   "cell_type": "markdown",
   "metadata": {},
   "source": [
    "Now, it's your turn!  Write a SQLite trigger on the ClassGrade table you defined earlier.  On each insertion into the ClassGrade table, the trigger should update the GPA of the corresponding student.\n",
    "* `gpa = sum(units*grade)/sum(units)`\n",
    "\n",
    "First, let's load data into the tables:"
   ]
  },
  {
   "cell_type": "code",
   "execution_count": null,
   "metadata": {
    "collapsed": false
   },
   "outputs": [],
   "source": [
    "%%sql\n",
    "insert into Student values(1,'Timmy','timmysmom@gmail.com', 0.0);\n",
    "insert into Student values(2,'Billy','billysmom@gmail.com',0.0);\n",
    "insert into Class values(1, 'CS145',4);\n",
    "insert into Class values(2,'CS229',3);"
   ]
  },
  {
   "cell_type": "code",
   "execution_count": null,
   "metadata": {
    "collapsed": false
   },
   "outputs": [],
   "source": [
    "%%sql\n",
    "select * from student;"
   ]
  },
  {
   "cell_type": "markdown",
   "metadata": {},
   "source": [
    "Now, write your trigger here:"
   ]
  },
  {
   "cell_type": "code",
   "execution_count": null,
   "metadata": {
    "collapsed": false
   },
   "outputs": [],
   "source": [
    "%%sql\n",
    "create trigger update_gpa\n",
    "  after insert on ClassGrade\n",
    "  for each row \n",
    "  begin\n",
    "    update Student set gpa = (select sum(grade * units)*1.0/sum(units) from ClassGrade, Class where \n",
    "                                          ClassGrade.cId = Class.cId and ClassGrade.sId = new.sId)\n",
    "    where sId = NEW.sId;\n",
    "  end;"
   ]
  },
  {
   "cell_type": "markdown",
   "metadata": {},
   "source": [
    "Now, write a second trigger here that inserts a row in ParentNotification with the parent's email and a message.  The trigger should execute whenever a Student record is updated with a new GPA and that GPA is < 2.0.\n",
    "\n",
    "A trigger like this can have a format similar to the following in SQLite:\n",
    "```\n",
    "create trigger XYZ\n",
    "    after update of myColumn on myTable\n",
    "    for each row when (condition in myTable)\n",
    "    begin\n",
    "        insert/update/delete etc.\n",
    "     end\n",
    "```\n",
    "\n",
    "Write your trigger here:"
   ]
  },
  {
   "cell_type": "code",
   "execution_count": null,
   "metadata": {
    "collapsed": false
   },
   "outputs": [],
   "source": [
    "%%sql\n",
    "create trigger notify_parent\n",
    "  after update of gpa on Student\n",
    "  for each row when (NEW.gpa < 2.0)\n",
    "  begin\n",
    "    insert into ParentNotification values(NEW.parentEmail, 'Your son '||NEW.name||' is failing school.');\n",
    "  end;"
   ]
  },
  {
   "cell_type": "markdown",
   "metadata": {},
   "source": [
    "We can now test the triggers.  "
   ]
  },
  {
   "cell_type": "code",
   "execution_count": null,
   "metadata": {
    "collapsed": false
   },
   "outputs": [],
   "source": [
    "%%sql\n",
    "insert into ClassGrade values(1,1,2);\n",
    "insert into ClassGrade values(1,2,1);\n",
    "insert into ClassGrade values(2,1,1);\n",
    "select * from ParentNotification;\n"
   ]
  },
  {
   "cell_type": "markdown",
   "metadata": {},
   "source": [
    "## Activity 3 - Advanced Triggers\n",
    "\n",
    "Triggers can execute BEFORE, AFTER, or INSTEAD OF the sql statements that trigger them.  [SQLite notes](https://www.sqlite.org/lang_createtrigger.html) that programmers should be very wary when executing BEFORE or INSTEAD OF triggers.\n",
    "\n",
    "> If a BEFORE UPDATE or BEFORE DELETE trigger modifies or deletes a row that was to have been updated or deleted, then the result of the subsequent update or delete operation is undefined. Furthermore, if a BEFORE trigger modifies or deletes a row, then it is undefined whether or not AFTER triggers that would have otherwise run on those rows will in fact run.\n",
    "\n",
    "> The value of NEW.rowid is undefined in a BEFORE INSERT trigger in which the rowid is not explicitly set to an integer.\n",
    "\n",
    "> Because of the behaviors described above, programmers are encouraged to prefer AFTER triggers over BEFORE triggers.\n",
    "\n",
    "Triggers are one of the unfortunate areas where SQL implementations differ greatly.  The correct semantics for a row-level “after” trigger, according to the SQL standard, is to activate the trigger after the entire triggering data modification statement completes, executing the trigger once for each modified row. PostgreSQL implements these semantics. SQLite instead implements semantics where the trigger is activated immediately after each row-level change, interleaving trigger execution with execution of the modification statement.\n",
    "\n",
    "Finally, SQLite supports the RAISE() function.  The function can be used to halt the execution of a trigger and the statement that caused it.  Here's an example that would prevent students from getting a grade in CS 245 until they've gotten a B or better in CS 145.\n",
    "\n"
   ]
  },
  {
   "cell_type": "code",
   "execution_count": null,
   "metadata": {
    "collapsed": false
   },
   "outputs": [],
   "source": [
    "%%sql\n",
    "drop trigger if exists enforce_cs245_prereqs;\n",
    "\n",
    "insert into Class values (3,'CS245',3);\n",
    "insert into Student values (3,'Johnny', 'johnnysmom@gmail.com', 0.0);\n",
    "insert into ClassGrade values (3,1,4);\n",
    "\n",
    "create trigger enforce_cs245_prereqs\n",
    "before insert on ClassGrade\n",
    "for each row\n",
    "when exists (\n",
    "        Select * \n",
    "        from Class c1\n",
    "        where c1.cID = new.cID\n",
    "        and c1.name = 'CS245'\n",
    "        and new.sID not in (\n",
    "            Select cg.sID\n",
    "            from class c2, ClassGrade cg\n",
    "            where c2.cID = cg.cID\n",
    "            and c2.name = 'CS145'\n",
    "            and cg.grade > 2)\n",
    "    )\n",
    "begin\n",
    "  select raise(rollback, 'A student must pass CS 145 before taking CS 245');\n",
    "end;"
   ]
  },
  {
   "cell_type": "markdown",
   "metadata": {},
   "source": [
    "With our trigger, student number 3, Johnny, should be able to take CS 245 since he got an A in CS 145.  "
   ]
  },
  {
   "cell_type": "code",
   "execution_count": null,
   "metadata": {
    "collapsed": false
   },
   "outputs": [],
   "source": [
    "%%sql\n",
    "insert into ClassGrade values (3,3,4.0);"
   ]
  },
  {
   "cell_type": "code",
   "execution_count": null,
   "metadata": {
    "collapsed": false
   },
   "outputs": [],
   "source": [
    "%sql select * from ClassGrade;"
   ]
  },
  {
   "cell_type": "markdown",
   "metadata": {},
   "source": [
    "As you can see, Johnny had no trouble getting a grade in the class.  Now, if we try to enter a grade for Student 1, it should fail due to our trigger.  It will present a rollback message if the trigger executes."
   ]
  },
  {
   "cell_type": "code",
   "execution_count": null,
   "metadata": {
    "collapsed": false
   },
   "outputs": [],
   "source": [
    "%%sql\n",
    "insert into ClassGrade values (1,3,4.0);"
   ]
  },
  {
   "cell_type": "markdown",
   "metadata": {},
   "source": [
    "Now, it's your turn!  Write a trigger that prevents a student from getting a grade in any class when there are pending emails in the ParentNotification table for that student's parent."
   ]
  },
  {
   "cell_type": "code",
   "execution_count": null,
   "metadata": {
    "collapsed": false
   },
   "outputs": [],
   "source": [
    "%%sql\n",
    "drop trigger if exists no_enrollment_with_parent_email;\n",
    "create trigger no_enrollment_with_parent_email\n",
    "before insert on ClassGrade\n",
    "for each row\n",
    "when exists (\n",
    "        Select * \n",
    "        from ParentNotification pe\n",
    "        where new.sID in (\n",
    "            select s.sID\n",
    "            from Student s, ParentNotification pn\n",
    "            where pn.parentEmail = s.parentEmail)\n",
    "    )\n",
    "begin\n",
    "  select raise(rollback, 'A student cannot enroll in classes when there are outstanding emails to his or her parents.');\n",
    "end;"
   ]
  },
  {
   "cell_type": "markdown",
   "metadata": {},
   "source": [
    "Assuming your trigger is correct, this statement should succeed."
   ]
  },
  {
   "cell_type": "code",
   "execution_count": null,
   "metadata": {
    "collapsed": false
   },
   "outputs": [],
   "source": [
    "%%sql\n",
    "insert into ClassGrade values (3,2,4);"
   ]
  },
  {
   "cell_type": "markdown",
   "metadata": {},
   "source": [
    "And this one shoud fail."
   ]
  },
  {
   "cell_type": "code",
   "execution_count": null,
   "metadata": {
    "collapsed": false
   },
   "outputs": [],
   "source": [
    "%%sql\n",
    "insert into ClassGrade values(2,2,1);"
   ]
  },
  {
   "cell_type": "markdown",
   "metadata": {},
   "source": [
    "## Further Information\n",
    "\n",
    "At this point, you should have all the knowledge you need to do Project Part 2.  If you want to learn more about constraints and triggers, you can view the videos from Professor Widom below.  Please note that this information is **NOT** necessary for any exams or homeworks that you will have in this class.  You do not need it to do the constraints or triggers on the project.\n",
    "\n",
    "* [Constraints and Triggers](https://www.youtube.com/watch?v=kaI9rQ6e7xQ&feature=youtu.be)\n",
    "* [Types of Constraints](https://www.youtube.com/watch?v=EGeDJzdh--o&feature=youtu.be)\n",
    "* [Referential Integrity](https://www.youtube.com/watch?v=zFeSglmrY78&feature=youtu.be)\n",
    "* [Triggers](https://www.youtube.com/watch?v=s9iRD-zrxS0&feature=youtu.be)\n",
    "* [Trigger demo 1](https://www.youtube.com/watch?v=i3xwZw5VRMs&feature=youtu.be)\n",
    "* [Trigger demo 2](https://www.youtube.com/watch?v=GSYhvQVI_dE&feature=youtu.be)"
   ]
  },
  {
   "cell_type": "code",
   "execution_count": null,
   "metadata": {
    "collapsed": true
   },
   "outputs": [],
   "source": []
  }
 ],
 "metadata": {
  "kernelspec": {
   "display_name": "Python 2",
   "language": "python",
   "name": "python2"
  },
  "language_info": {
   "codemirror_mode": {
    "name": "ipython",
    "version": 2
   },
   "file_extension": ".py",
   "mimetype": "text/x-python",
   "name": "python",
   "nbconvert_exporter": "python",
   "pygments_lexer": "ipython2",
   "version": "2.7.10"
  }
 },
 "nbformat": 4,
 "nbformat_minor": 0
}
